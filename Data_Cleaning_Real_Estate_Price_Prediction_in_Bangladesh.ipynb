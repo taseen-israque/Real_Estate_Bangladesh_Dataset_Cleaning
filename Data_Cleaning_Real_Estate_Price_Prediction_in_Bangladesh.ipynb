{
 "cells": [
  {
   "cell_type": "code",
   "execution_count": 46,
   "metadata": {
    "colab": {
     "base_uri": "https://localhost:8080/"
    },
    "id": "1Ofpu6vdxgIG",
    "outputId": "a1b2244a-14f4-4657-93e8-d4e7a247183e"
   },
   "outputs": [
    {
     "name": "stdout",
     "output_type": "stream",
     "text": [
      "Warning: Looks like you're using an outdated `kagglehub` version (installed: 0.3.6), please consider upgrading to the latest version (0.3.8).\n",
      "Data source import complete.\n"
     ]
    }
   ],
   "source": [
    "# IMPORTANT: RUN THIS CELL IN ORDER TO IMPORT YOUR KAGGLE DATA SOURCES,\n",
    "# THEN FEEL FREE TO DELETE THIS CELL.\n",
    "# NOTE: THIS NOTEBOOK ENVIRONMENT DIFFERS FROM KAGGLE'S PYTHON\n",
    "# ENVIRONMENT SO THERE MAY BE MISSING LIBRARIES USED BY YOUR\n",
    "# NOTEBOOK.\n",
    "import kagglehub\n",
    "durjoychandrapaul_house_price_bangladesh_path = kagglehub.dataset_download('durjoychandrapaul/house-price-bangladesh')\n",
    "\n",
    "print('Data source import complete.')\n"
   ]
  },
  {
   "cell_type": "code",
   "execution_count": 47,
   "metadata": {
    "colab": {
     "base_uri": "https://localhost:8080/"
    },
    "id": "y2QI_xBjyImb",
    "outputId": "ac8ea94c-3033-4dd5-d0eb-7c270a4d3555"
   },
   "outputs": [
    {
     "name": "stdout",
     "output_type": "stream",
     "text": [
      "Requirement already satisfied: kagglehub in /usr/local/lib/python3.11/dist-packages (0.3.8)\n",
      "Requirement already satisfied: packaging in /usr/local/lib/python3.11/dist-packages (from kagglehub) (24.2)\n",
      "Requirement already satisfied: requests in /usr/local/lib/python3.11/dist-packages (from kagglehub) (2.32.3)\n",
      "Requirement already satisfied: tqdm in /usr/local/lib/python3.11/dist-packages (from kagglehub) (4.67.1)\n",
      "Requirement already satisfied: charset-normalizer<4,>=2 in /usr/local/lib/python3.11/dist-packages (from requests->kagglehub) (3.4.1)\n",
      "Requirement already satisfied: idna<4,>=2.5 in /usr/local/lib/python3.11/dist-packages (from requests->kagglehub) (3.10)\n",
      "Requirement already satisfied: urllib3<3,>=1.21.1 in /usr/local/lib/python3.11/dist-packages (from requests->kagglehub) (2.3.0)\n",
      "Requirement already satisfied: certifi>=2017.4.17 in /usr/local/lib/python3.11/dist-packages (from requests->kagglehub) (2025.1.31)\n"
     ]
    }
   ],
   "source": [
    "!pip install --upgrade kagglehub"
   ]
  },
  {
   "cell_type": "markdown",
   "metadata": {
    "id": "5ylsxpV6xgIH"
   },
   "source": [
    "For a detailed explanation and code interpretation, please visit the [GitHub repository](https://github.com/Mohsto/Real-Estate-Price-Prediction-in-Bangladesh)."
   ]
  },
  {
   "cell_type": "markdown",
   "metadata": {
    "id": "ChUP3bP0xgII"
   },
   "source": [
    "# Importing libraries"
   ]
  },
  {
   "cell_type": "code",
   "execution_count": 45,
   "metadata": {
    "id": "R7Ta-jgixgII"
   },
   "outputs": [],
   "source": [
    "import pandas as pd\n",
    "import numpy as np\n",
    "import seaborn as sns\n",
    "import matplotlib.pyplot as plt"
   ]
  },
  {
   "cell_type": "markdown",
   "metadata": {
    "id": "Q89JAe9txgIJ"
   },
   "source": [
    "# Reading the dataset"
   ]
  },
  {
   "cell_type": "code",
   "execution_count": 46,
   "metadata": {
    "id": "WqFFoNWoxgIJ"
   },
   "outputs": [],
   "source": [
    "df = pd.read_csv(\"D:\\\\camera photos\\\\suhi apur reception\\\\archive\\\\house_price_bd.csv\")"
   ]
  },
  {
   "cell_type": "code",
   "execution_count": 47,
   "metadata": {
    "colab": {
     "base_uri": "https://localhost:8080/",
     "height": 293
    },
    "id": "zUlBneqFxgIK",
    "outputId": "a56df4a7-9343-4d03-d6d4-bf0035356767"
   },
   "outputs": [
    {
     "data": {
      "text/html": [
       "<div>\n",
       "<style scoped>\n",
       "    .dataframe tbody tr th:only-of-type {\n",
       "        vertical-align: middle;\n",
       "    }\n",
       "\n",
       "    .dataframe tbody tr th {\n",
       "        vertical-align: top;\n",
       "    }\n",
       "\n",
       "    .dataframe thead th {\n",
       "        text-align: right;\n",
       "    }\n",
       "</style>\n",
       "<table border=\"1\" class=\"dataframe\">\n",
       "  <thead>\n",
       "    <tr style=\"text-align: right;\">\n",
       "      <th></th>\n",
       "      <th>Title</th>\n",
       "      <th>Bedrooms</th>\n",
       "      <th>Bathrooms</th>\n",
       "      <th>Floor_no</th>\n",
       "      <th>Occupancy_status</th>\n",
       "      <th>Floor_area</th>\n",
       "      <th>City</th>\n",
       "      <th>Price_in_taka</th>\n",
       "      <th>Location</th>\n",
       "    </tr>\n",
       "  </thead>\n",
       "  <tbody>\n",
       "    <tr>\n",
       "      <th>0</th>\n",
       "      <td>We Are Offering You A Very Spacious 1960 Sq Ft...</td>\n",
       "      <td>3.0</td>\n",
       "      <td>4.0</td>\n",
       "      <td>3</td>\n",
       "      <td>vacant</td>\n",
       "      <td>1960.0</td>\n",
       "      <td>dhaka</td>\n",
       "      <td>৳39,000,000</td>\n",
       "      <td>Gulshan 1, Gulshan</td>\n",
       "    </tr>\n",
       "    <tr>\n",
       "      <th>1</th>\n",
       "      <td>Valuable 1705 Square Feet Apartment Is Ready T...</td>\n",
       "      <td>3.0</td>\n",
       "      <td>3.0</td>\n",
       "      <td>1</td>\n",
       "      <td>vacant</td>\n",
       "      <td>1705.0</td>\n",
       "      <td>dhaka</td>\n",
       "      <td>৳16,900,000</td>\n",
       "      <td>Lake Circus Road, Kalabagan</td>\n",
       "    </tr>\n",
       "    <tr>\n",
       "      <th>2</th>\n",
       "      <td>1370 square feet apartment is ready to sale in...</td>\n",
       "      <td>3.0</td>\n",
       "      <td>3.0</td>\n",
       "      <td>6</td>\n",
       "      <td>vacant</td>\n",
       "      <td>1370.0</td>\n",
       "      <td>dhaka</td>\n",
       "      <td>৳12,500,000</td>\n",
       "      <td>Shukrabad, Dhanmondi</td>\n",
       "    </tr>\n",
       "    <tr>\n",
       "      <th>3</th>\n",
       "      <td>2125 Square Feet Apartment For Sale In Bashund...</td>\n",
       "      <td>3.0</td>\n",
       "      <td>3.0</td>\n",
       "      <td>4</td>\n",
       "      <td>vacant</td>\n",
       "      <td>2125.0</td>\n",
       "      <td>dhaka</td>\n",
       "      <td>৳20,000,000</td>\n",
       "      <td>Block L, Bashundhara R-A</td>\n",
       "    </tr>\n",
       "    <tr>\n",
       "      <th>4</th>\n",
       "      <td>Buy This 2687 Square Feet Flat In The Nice Are...</td>\n",
       "      <td>3.0</td>\n",
       "      <td>3.0</td>\n",
       "      <td>4</td>\n",
       "      <td>vacant</td>\n",
       "      <td>2687.0</td>\n",
       "      <td>dhaka</td>\n",
       "      <td>৳47,500,000</td>\n",
       "      <td>Road No 25, Banani</td>\n",
       "    </tr>\n",
       "  </tbody>\n",
       "</table>\n",
       "</div>"
      ],
      "text/plain": [
       "                                               Title  Bedrooms  Bathrooms  \\\n",
       "0  We Are Offering You A Very Spacious 1960 Sq Ft...       3.0        4.0   \n",
       "1  Valuable 1705 Square Feet Apartment Is Ready T...       3.0        3.0   \n",
       "2  1370 square feet apartment is ready to sale in...       3.0        3.0   \n",
       "3  2125 Square Feet Apartment For Sale In Bashund...       3.0        3.0   \n",
       "4  Buy This 2687 Square Feet Flat In The Nice Are...       3.0        3.0   \n",
       "\n",
       "  Floor_no Occupancy_status  Floor_area   City Price_in_taka  \\\n",
       "0        3           vacant      1960.0  dhaka   ৳39,000,000   \n",
       "1        1           vacant      1705.0  dhaka   ৳16,900,000   \n",
       "2        6           vacant      1370.0  dhaka   ৳12,500,000   \n",
       "3        4           vacant      2125.0  dhaka   ৳20,000,000   \n",
       "4        4           vacant      2687.0  dhaka   ৳47,500,000   \n",
       "\n",
       "                      Location  \n",
       "0           Gulshan 1, Gulshan  \n",
       "1  Lake Circus Road, Kalabagan  \n",
       "2         Shukrabad, Dhanmondi  \n",
       "3     Block L, Bashundhara R-A  \n",
       "4           Road No 25, Banani  "
      ]
     },
     "execution_count": 47,
     "metadata": {},
     "output_type": "execute_result"
    }
   ],
   "source": [
    "df.head()"
   ]
  },
  {
   "cell_type": "code",
   "execution_count": 48,
   "metadata": {
    "colab": {
     "base_uri": "https://localhost:8080/"
    },
    "id": "N9WWaATQxgIK",
    "outputId": "056eed49-afb6-4823-b348-5f0b1c6c7642"
   },
   "outputs": [
    {
     "data": {
      "text/plain": [
       "(3865, 9)"
      ]
     },
     "execution_count": 48,
     "metadata": {},
     "output_type": "execute_result"
    }
   ],
   "source": [
    "df.shape"
   ]
  },
  {
   "cell_type": "code",
   "execution_count": 49,
   "metadata": {
    "colab": {
     "base_uri": "https://localhost:8080/",
     "height": 300
    },
    "id": "dbJYs9BHxgIL",
    "outputId": "6a230f0c-6210-4d59-e52c-1e7d3662ed65"
   },
   "outputs": [
    {
     "data": {
      "text/html": [
       "<div>\n",
       "<style scoped>\n",
       "    .dataframe tbody tr th:only-of-type {\n",
       "        vertical-align: middle;\n",
       "    }\n",
       "\n",
       "    .dataframe tbody tr th {\n",
       "        vertical-align: top;\n",
       "    }\n",
       "\n",
       "    .dataframe thead th {\n",
       "        text-align: right;\n",
       "    }\n",
       "</style>\n",
       "<table border=\"1\" class=\"dataframe\">\n",
       "  <thead>\n",
       "    <tr style=\"text-align: right;\">\n",
       "      <th></th>\n",
       "      <th>Bedrooms</th>\n",
       "      <th>Bathrooms</th>\n",
       "      <th>Floor_area</th>\n",
       "    </tr>\n",
       "  </thead>\n",
       "  <tbody>\n",
       "    <tr>\n",
       "      <th>count</th>\n",
       "      <td>2864.000000</td>\n",
       "      <td>2864.000000</td>\n",
       "      <td>3766.000000</td>\n",
       "    </tr>\n",
       "    <tr>\n",
       "      <th>mean</th>\n",
       "      <td>3.133031</td>\n",
       "      <td>2.992668</td>\n",
       "      <td>1940.299522</td>\n",
       "    </tr>\n",
       "    <tr>\n",
       "      <th>std</th>\n",
       "      <td>2.215457</td>\n",
       "      <td>0.978434</td>\n",
       "      <td>6024.921935</td>\n",
       "    </tr>\n",
       "    <tr>\n",
       "      <th>min</th>\n",
       "      <td>1.000000</td>\n",
       "      <td>1.000000</td>\n",
       "      <td>84.000000</td>\n",
       "    </tr>\n",
       "    <tr>\n",
       "      <th>25%</th>\n",
       "      <td>3.000000</td>\n",
       "      <td>3.000000</td>\n",
       "      <td>1100.000000</td>\n",
       "    </tr>\n",
       "    <tr>\n",
       "      <th>50%</th>\n",
       "      <td>3.000000</td>\n",
       "      <td>3.000000</td>\n",
       "      <td>1380.000000</td>\n",
       "    </tr>\n",
       "    <tr>\n",
       "      <th>75%</th>\n",
       "      <td>3.000000</td>\n",
       "      <td>3.000000</td>\n",
       "      <td>1860.000000</td>\n",
       "    </tr>\n",
       "    <tr>\n",
       "      <th>max</th>\n",
       "      <td>50.000000</td>\n",
       "      <td>10.000000</td>\n",
       "      <td>195840.000000</td>\n",
       "    </tr>\n",
       "  </tbody>\n",
       "</table>\n",
       "</div>"
      ],
      "text/plain": [
       "          Bedrooms    Bathrooms     Floor_area\n",
       "count  2864.000000  2864.000000    3766.000000\n",
       "mean      3.133031     2.992668    1940.299522\n",
       "std       2.215457     0.978434    6024.921935\n",
       "min       1.000000     1.000000      84.000000\n",
       "25%       3.000000     3.000000    1100.000000\n",
       "50%       3.000000     3.000000    1380.000000\n",
       "75%       3.000000     3.000000    1860.000000\n",
       "max      50.000000    10.000000  195840.000000"
      ]
     },
     "execution_count": 49,
     "metadata": {},
     "output_type": "execute_result"
    }
   ],
   "source": [
    "df.describe()"
   ]
  },
  {
   "cell_type": "code",
   "execution_count": 50,
   "metadata": {
    "colab": {
     "base_uri": "https://localhost:8080/"
    },
    "id": "FgIhy1b7xgIL",
    "outputId": "3a2953fd-5521-4204-bacc-d39fac4678f0"
   },
   "outputs": [
    {
     "name": "stdout",
     "output_type": "stream",
     "text": [
      "<class 'pandas.core.frame.DataFrame'>\n",
      "RangeIndex: 3865 entries, 0 to 3864\n",
      "Data columns (total 9 columns):\n",
      " #   Column            Non-Null Count  Dtype  \n",
      "---  ------            --------------  -----  \n",
      " 0   Title             3865 non-null   object \n",
      " 1   Bedrooms          2864 non-null   float64\n",
      " 2   Bathrooms         2864 non-null   float64\n",
      " 3   Floor_no          3181 non-null   object \n",
      " 4   Occupancy_status  3766 non-null   object \n",
      " 5   Floor_area        3766 non-null   float64\n",
      " 6   City              3865 non-null   object \n",
      " 7   Price_in_taka     3865 non-null   object \n",
      " 8   Location          3859 non-null   object \n",
      "dtypes: float64(3), object(6)\n",
      "memory usage: 271.9+ KB\n"
     ]
    }
   ],
   "source": [
    "df.info()"
   ]
  },
  {
   "cell_type": "markdown",
   "metadata": {
    "id": "URrElLfIxgIM"
   },
   "source": [
    "<a id=\"Section-one\" ></a>\n",
    "# Data cleaning"
   ]
  },
  {
   "cell_type": "markdown",
   "metadata": {
    "id": "rdjFGk2YxgIM"
   },
   "source": [
    "## Duplicates"
   ]
  },
  {
   "cell_type": "code",
   "execution_count": 51,
   "metadata": {
    "id": "CngeL8zRxgIM"
   },
   "outputs": [],
   "source": [
    "df_clean = df.copy()"
   ]
  },
  {
   "cell_type": "code",
   "execution_count": 52,
   "metadata": {
    "colab": {
     "base_uri": "https://localhost:8080/"
    },
    "id": "QOAdRp6AxgIM",
    "outputId": "9d91ecff-356e-4ae9-eaa9-84840e10c39c"
   },
   "outputs": [
    {
     "data": {
      "text/plain": [
       "934"
      ]
     },
     "execution_count": 52,
     "metadata": {},
     "output_type": "execute_result"
    }
   ],
   "source": [
    "df_clean.duplicated().sum()"
   ]
  },
  {
   "cell_type": "code",
   "execution_count": 53,
   "metadata": {
    "id": "UMAZBqGTxgIN"
   },
   "outputs": [],
   "source": [
    "df_clean.drop_duplicates(inplace = True)"
   ]
  },
  {
   "cell_type": "code",
   "execution_count": 54,
   "metadata": {
    "colab": {
     "base_uri": "https://localhost:8080/"
    },
    "id": "DV2dmnUhxgIN",
    "outputId": "0f2cc6db-b1aa-40cd-a3bd-c752dc0cfd57"
   },
   "outputs": [
    {
     "data": {
      "text/plain": [
       "(2931, 9)"
      ]
     },
     "execution_count": 54,
     "metadata": {},
     "output_type": "execute_result"
    }
   ],
   "source": [
    "df_clean.shape"
   ]
  },
  {
   "cell_type": "markdown",
   "metadata": {
    "id": "UWwHCDkGxgIN"
   },
   "source": [
    "## Missing data"
   ]
  },
  {
   "cell_type": "code",
   "execution_count": 55,
   "metadata": {
    "colab": {
     "base_uri": "https://localhost:8080/",
     "height": 366
    },
    "id": "eiqyJ-3kxgIO",
    "outputId": "09f29bd1-f14d-44f2-f651-dbb84065a759"
   },
   "outputs": [
    {
     "data": {
      "text/plain": [
       "Title                 0\n",
       "Bedrooms            831\n",
       "Bathrooms           831\n",
       "Floor_no            575\n",
       "Occupancy_status     89\n",
       "Floor_area           89\n",
       "City                  0\n",
       "Price_in_taka         0\n",
       "Location              6\n",
       "dtype: int64"
      ]
     },
     "execution_count": 55,
     "metadata": {},
     "output_type": "execute_result"
    }
   ],
   "source": [
    "df_clean.isna().sum()"
   ]
  },
  {
   "cell_type": "markdown",
   "metadata": {
    "id": "r9EVI249xgIO"
   },
   "source": [
    "### Fixing the Floor number column, in order to deal with the missing values"
   ]
  },
  {
   "cell_type": "markdown",
   "metadata": {
    "id": "qvoBxgThxgIO"
   },
   "source": [
    "#### Fixing this column first to clarify also the confusion of floor number"
   ]
  },
  {
   "cell_type": "code",
   "execution_count": 56,
   "metadata": {
    "colab": {
     "base_uri": "https://localhost:8080/",
     "height": 899
    },
    "id": "0zKXkMC7xgIO",
    "outputId": "68eab965-c398-46ea-f2e2-b75199368072"
   },
   "outputs": [
    {
     "data": {
      "text/plain": [
       "Floor_no\n",
       "1                       379\n",
       "4                       306\n",
       "5                       293\n",
       "2                       274\n",
       "3                       261\n",
       "6                       249\n",
       "7                       200\n",
       "8                       184\n",
       "9                       126\n",
       "10                       23\n",
       "11                       20\n",
       "12                       16\n",
       "13                        7\n",
       "Merin City - Purbach      6\n",
       "14                        2\n",
       "1st                       1\n",
       "8th                       1\n",
       "A1,A2,A3,A4,A5,A6,A7      1\n",
       "0+7                       1\n",
       "1F                        1\n",
       "4th to 8th Backside       1\n",
       "18                        1\n",
       "5th                       1\n",
       "17                        1\n",
       "G+7                       1\n",
       "Name: count, dtype: int64"
      ]
     },
     "execution_count": 56,
     "metadata": {},
     "output_type": "execute_result"
    }
   ],
   "source": [
    "df_clean[\"Floor_no\"].value_counts()"
   ]
  },
  {
   "cell_type": "markdown",
   "metadata": {
    "id": "bdzJjo2WxgIP"
   },
   "source": [
    "#### Starting with rows contains \"Merin City - Purbach\""
   ]
  },
  {
   "cell_type": "code",
   "execution_count": 57,
   "metadata": {
    "colab": {
     "base_uri": "https://localhost:8080/",
     "height": 341
    },
    "id": "xvCzRleWxgIP",
    "outputId": "fe13cee3-b3f0-4b94-98b0-e326abeb77c8"
   },
   "outputs": [
    {
     "data": {
      "text/html": [
       "<div>\n",
       "<style scoped>\n",
       "    .dataframe tbody tr th:only-of-type {\n",
       "        vertical-align: middle;\n",
       "    }\n",
       "\n",
       "    .dataframe tbody tr th {\n",
       "        vertical-align: top;\n",
       "    }\n",
       "\n",
       "    .dataframe thead th {\n",
       "        text-align: right;\n",
       "    }\n",
       "</style>\n",
       "<table border=\"1\" class=\"dataframe\">\n",
       "  <thead>\n",
       "    <tr style=\"text-align: right;\">\n",
       "      <th></th>\n",
       "      <th>Title</th>\n",
       "      <th>Bedrooms</th>\n",
       "      <th>Bathrooms</th>\n",
       "      <th>Floor_no</th>\n",
       "      <th>Occupancy_status</th>\n",
       "      <th>Floor_area</th>\n",
       "      <th>City</th>\n",
       "      <th>Price_in_taka</th>\n",
       "      <th>Location</th>\n",
       "    </tr>\n",
       "  </thead>\n",
       "  <tbody>\n",
       "    <tr>\n",
       "      <th>3313</th>\n",
       "      <td>Plot For Sale In A Suitable Place In Bproperty...</td>\n",
       "      <td>NaN</td>\n",
       "      <td>NaN</td>\n",
       "      <td>Merin City - Purbach</td>\n",
       "      <td>vacant</td>\n",
       "      <td>2160.0</td>\n",
       "      <td>narayanganj-city</td>\n",
       "      <td>৳4,575,000</td>\n",
       "      <td>Rupganj, Narayanganj</td>\n",
       "    </tr>\n",
       "    <tr>\n",
       "      <th>3388</th>\n",
       "      <td>For Sale, Residential Plot Is Situated In Bpro...</td>\n",
       "      <td>NaN</td>\n",
       "      <td>NaN</td>\n",
       "      <td>Merin City - Purbach</td>\n",
       "      <td>vacant</td>\n",
       "      <td>2160.0</td>\n",
       "      <td>narayanganj-city</td>\n",
       "      <td>৳4,575,000</td>\n",
       "      <td>Rupganj, Narayanganj</td>\n",
       "    </tr>\n",
       "    <tr>\n",
       "      <th>3392</th>\n",
       "      <td>Plot For Sale In A Suitable Place In Bproperty...</td>\n",
       "      <td>NaN</td>\n",
       "      <td>NaN</td>\n",
       "      <td>Merin City - Purbach</td>\n",
       "      <td>vacant</td>\n",
       "      <td>2160.0</td>\n",
       "      <td>narayanganj-city</td>\n",
       "      <td>৳4,575,000</td>\n",
       "      <td>Rupganj, Narayanganj</td>\n",
       "    </tr>\n",
       "    <tr>\n",
       "      <th>3393</th>\n",
       "      <td>Plot For Sale In A Suitable Place In Bproperty...</td>\n",
       "      <td>NaN</td>\n",
       "      <td>NaN</td>\n",
       "      <td>Merin City - Purbach</td>\n",
       "      <td>vacant</td>\n",
       "      <td>2160.0</td>\n",
       "      <td>narayanganj-city</td>\n",
       "      <td>৳4,575,000</td>\n",
       "      <td>Rupganj, Narayanganj</td>\n",
       "    </tr>\n",
       "    <tr>\n",
       "      <th>3432</th>\n",
       "      <td>In The Beautiful Location Of Bproperty Village...</td>\n",
       "      <td>NaN</td>\n",
       "      <td>NaN</td>\n",
       "      <td>Merin City - Purbach</td>\n",
       "      <td>vacant</td>\n",
       "      <td>2160.0</td>\n",
       "      <td>narayanganj-city</td>\n",
       "      <td>৳4,575,000</td>\n",
       "      <td>Rupganj, Narayanganj</td>\n",
       "    </tr>\n",
       "    <tr>\n",
       "      <th>3492</th>\n",
       "      <td>Plot For Sale In A Suitable Place In Narayanga...</td>\n",
       "      <td>NaN</td>\n",
       "      <td>NaN</td>\n",
       "      <td>Merin City - Purbach</td>\n",
       "      <td>vacant</td>\n",
       "      <td>2160.0</td>\n",
       "      <td>narayanganj-city</td>\n",
       "      <td>৳4,575,000</td>\n",
       "      <td>Rupganj, Narayanganj</td>\n",
       "    </tr>\n",
       "  </tbody>\n",
       "</table>\n",
       "</div>"
      ],
      "text/plain": [
       "                                                  Title  Bedrooms  Bathrooms  \\\n",
       "3313  Plot For Sale In A Suitable Place In Bproperty...       NaN        NaN   \n",
       "3388  For Sale, Residential Plot Is Situated In Bpro...       NaN        NaN   \n",
       "3392  Plot For Sale In A Suitable Place In Bproperty...       NaN        NaN   \n",
       "3393  Plot For Sale In A Suitable Place In Bproperty...       NaN        NaN   \n",
       "3432  In The Beautiful Location Of Bproperty Village...       NaN        NaN   \n",
       "3492  Plot For Sale In A Suitable Place In Narayanga...       NaN        NaN   \n",
       "\n",
       "                  Floor_no Occupancy_status  Floor_area              City  \\\n",
       "3313  Merin City - Purbach           vacant      2160.0  narayanganj-city   \n",
       "3388  Merin City - Purbach           vacant      2160.0  narayanganj-city   \n",
       "3392  Merin City - Purbach           vacant      2160.0  narayanganj-city   \n",
       "3393  Merin City - Purbach           vacant      2160.0  narayanganj-city   \n",
       "3432  Merin City - Purbach           vacant      2160.0  narayanganj-city   \n",
       "3492  Merin City - Purbach           vacant      2160.0  narayanganj-city   \n",
       "\n",
       "     Price_in_taka              Location  \n",
       "3313    ৳4,575,000  Rupganj, Narayanganj  \n",
       "3388    ৳4,575,000  Rupganj, Narayanganj  \n",
       "3392    ৳4,575,000  Rupganj, Narayanganj  \n",
       "3393    ৳4,575,000  Rupganj, Narayanganj  \n",
       "3432    ৳4,575,000  Rupganj, Narayanganj  \n",
       "3492    ৳4,575,000  Rupganj, Narayanganj  "
      ]
     },
     "execution_count": 57,
     "metadata": {},
     "output_type": "execute_result"
    }
   ],
   "source": [
    "df_clean[df_clean[\"Floor_no\"] == \"Merin City - Purbach\"]"
   ]
  },
  {
   "cell_type": "markdown",
   "metadata": {
    "id": "0oi8Q4hmxgIP"
   },
   "source": [
    "#### Dropping these rows as these are Plots for sale not apartments or flats"
   ]
  },
  {
   "cell_type": "code",
   "execution_count": 58,
   "metadata": {
    "id": "zHshwzqyxgIP"
   },
   "outputs": [],
   "source": [
    "df_clean = df_clean[df_clean['Floor_no'] != 'Merin City - Purbach']"
   ]
  },
  {
   "cell_type": "markdown",
   "metadata": {
    "id": "1yWKRE0xxgIP"
   },
   "source": [
    "#### Moving to where we have \"4th to 8th Backside\""
   ]
  },
  {
   "cell_type": "code",
   "execution_count": 59,
   "metadata": {
    "colab": {
     "base_uri": "https://localhost:8080/",
     "height": 98
    },
    "id": "Z-bhGBIgxgIP",
    "outputId": "dc667c80-2b73-4f06-f9a4-ce0c27f9a46c"
   },
   "outputs": [
    {
     "data": {
      "text/html": [
       "<div>\n",
       "<style scoped>\n",
       "    .dataframe tbody tr th:only-of-type {\n",
       "        vertical-align: middle;\n",
       "    }\n",
       "\n",
       "    .dataframe tbody tr th {\n",
       "        vertical-align: top;\n",
       "    }\n",
       "\n",
       "    .dataframe thead th {\n",
       "        text-align: right;\n",
       "    }\n",
       "</style>\n",
       "<table border=\"1\" class=\"dataframe\">\n",
       "  <thead>\n",
       "    <tr style=\"text-align: right;\">\n",
       "      <th></th>\n",
       "      <th>Title</th>\n",
       "      <th>Bedrooms</th>\n",
       "      <th>Bathrooms</th>\n",
       "      <th>Floor_no</th>\n",
       "      <th>Occupancy_status</th>\n",
       "      <th>Floor_area</th>\n",
       "      <th>City</th>\n",
       "      <th>Price_in_taka</th>\n",
       "      <th>Location</th>\n",
       "    </tr>\n",
       "  </thead>\n",
       "  <tbody>\n",
       "    <tr>\n",
       "      <th>2674</th>\n",
       "      <td>An Apartment Is Up For Sale In Dakshin Kattali...</td>\n",
       "      <td>3.0</td>\n",
       "      <td>3.0</td>\n",
       "      <td>4th to 8th Backside</td>\n",
       "      <td>vacant</td>\n",
       "      <td>1250.0</td>\n",
       "      <td>chattogram</td>\n",
       "      <td>৳3,800,000</td>\n",
       "      <td>Dakshin Kattali, 11 No. South Kattali Ward</td>\n",
       "    </tr>\n",
       "  </tbody>\n",
       "</table>\n",
       "</div>"
      ],
      "text/plain": [
       "                                                  Title  Bedrooms  Bathrooms  \\\n",
       "2674  An Apartment Is Up For Sale In Dakshin Kattali...       3.0        3.0   \n",
       "\n",
       "                 Floor_no Occupancy_status  Floor_area        City  \\\n",
       "2674  4th to 8th Backside           vacant      1250.0  chattogram   \n",
       "\n",
       "     Price_in_taka                                    Location  \n",
       "2674    ৳3,800,000  Dakshin Kattali, 11 No. South Kattali Ward  "
      ]
     },
     "execution_count": 59,
     "metadata": {},
     "output_type": "execute_result"
    }
   ],
   "source": [
    "df_clean[df_clean['Floor_no'] == '4th to 8th Backside']"
   ]
  },
  {
   "cell_type": "markdown",
   "metadata": {
    "id": "5RgHJfbZxgIQ"
   },
   "source": [
    "#### We can see that these are apartments, so i created 4 new rows, each row contains a floor number for each apartment"
   ]
  },
  {
   "cell_type": "code",
   "execution_count": 60,
   "metadata": {
    "id": "7R0-nlARxgIQ"
   },
   "outputs": [],
   "source": [
    "# Rows to replace (indices where 'Floor_no' contains '4th to 8th Backside')\n",
    "rows_to_replace = df_clean[df_clean['Floor_no'] == '4th to 8th Backside']\n",
    "\n",
    "# Create new rows for each floor from 4 to 8\n",
    "new_rows = []\n",
    "for i in range(4, 9):  # Floors from 4 to 8\n",
    "    for index, row in rows_to_replace.iterrows():\n",
    "        new_row = row.copy()\n",
    "        new_row['Floor_no'] = i  # Set the floor number as a numeric value\n",
    "        new_rows.append(new_row)\n",
    "\n",
    "# Convert the list of new rows to a DataFrame\n",
    "new_rows_df = pd.DataFrame(new_rows)\n",
    "\n",
    "# Remove the original rows\n",
    "df_clean = df_clean.drop(rows_to_replace.index)\n",
    "\n",
    "# Use pd.concat() to append the new rows to the DataFrame\n",
    "df_clean = pd.concat([df_clean, new_rows_df], ignore_index=True)"
   ]
  },
  {
   "cell_type": "code",
   "execution_count": 61,
   "metadata": {
    "colab": {
     "base_uri": "https://localhost:8080/",
     "height": 293
    },
    "id": "4tVJCgsyxgIQ",
    "outputId": "e53d2e16-f48c-4fcb-c3f3-adc053448905"
   },
   "outputs": [
    {
     "data": {
      "text/html": [
       "<div>\n",
       "<style scoped>\n",
       "    .dataframe tbody tr th:only-of-type {\n",
       "        vertical-align: middle;\n",
       "    }\n",
       "\n",
       "    .dataframe tbody tr th {\n",
       "        vertical-align: top;\n",
       "    }\n",
       "\n",
       "    .dataframe thead th {\n",
       "        text-align: right;\n",
       "    }\n",
       "</style>\n",
       "<table border=\"1\" class=\"dataframe\">\n",
       "  <thead>\n",
       "    <tr style=\"text-align: right;\">\n",
       "      <th></th>\n",
       "      <th>Title</th>\n",
       "      <th>Bedrooms</th>\n",
       "      <th>Bathrooms</th>\n",
       "      <th>Floor_no</th>\n",
       "      <th>Occupancy_status</th>\n",
       "      <th>Floor_area</th>\n",
       "      <th>City</th>\n",
       "      <th>Price_in_taka</th>\n",
       "      <th>Location</th>\n",
       "    </tr>\n",
       "  </thead>\n",
       "  <tbody>\n",
       "    <tr>\n",
       "      <th>2674</th>\n",
       "      <td>An Apartment Is Up For Sale In Dakshin Kattali...</td>\n",
       "      <td>3.0</td>\n",
       "      <td>3.0</td>\n",
       "      <td>4</td>\n",
       "      <td>vacant</td>\n",
       "      <td>1250.0</td>\n",
       "      <td>chattogram</td>\n",
       "      <td>৳3,800,000</td>\n",
       "      <td>Dakshin Kattali, 11 No. South Kattali Ward</td>\n",
       "    </tr>\n",
       "    <tr>\n",
       "      <th>2674</th>\n",
       "      <td>An Apartment Is Up For Sale In Dakshin Kattali...</td>\n",
       "      <td>3.0</td>\n",
       "      <td>3.0</td>\n",
       "      <td>5</td>\n",
       "      <td>vacant</td>\n",
       "      <td>1250.0</td>\n",
       "      <td>chattogram</td>\n",
       "      <td>৳3,800,000</td>\n",
       "      <td>Dakshin Kattali, 11 No. South Kattali Ward</td>\n",
       "    </tr>\n",
       "    <tr>\n",
       "      <th>2674</th>\n",
       "      <td>An Apartment Is Up For Sale In Dakshin Kattali...</td>\n",
       "      <td>3.0</td>\n",
       "      <td>3.0</td>\n",
       "      <td>6</td>\n",
       "      <td>vacant</td>\n",
       "      <td>1250.0</td>\n",
       "      <td>chattogram</td>\n",
       "      <td>৳3,800,000</td>\n",
       "      <td>Dakshin Kattali, 11 No. South Kattali Ward</td>\n",
       "    </tr>\n",
       "    <tr>\n",
       "      <th>2674</th>\n",
       "      <td>An Apartment Is Up For Sale In Dakshin Kattali...</td>\n",
       "      <td>3.0</td>\n",
       "      <td>3.0</td>\n",
       "      <td>7</td>\n",
       "      <td>vacant</td>\n",
       "      <td>1250.0</td>\n",
       "      <td>chattogram</td>\n",
       "      <td>৳3,800,000</td>\n",
       "      <td>Dakshin Kattali, 11 No. South Kattali Ward</td>\n",
       "    </tr>\n",
       "    <tr>\n",
       "      <th>2674</th>\n",
       "      <td>An Apartment Is Up For Sale In Dakshin Kattali...</td>\n",
       "      <td>3.0</td>\n",
       "      <td>3.0</td>\n",
       "      <td>8</td>\n",
       "      <td>vacant</td>\n",
       "      <td>1250.0</td>\n",
       "      <td>chattogram</td>\n",
       "      <td>৳3,800,000</td>\n",
       "      <td>Dakshin Kattali, 11 No. South Kattali Ward</td>\n",
       "    </tr>\n",
       "  </tbody>\n",
       "</table>\n",
       "</div>"
      ],
      "text/plain": [
       "                                                  Title  Bedrooms  Bathrooms  \\\n",
       "2674  An Apartment Is Up For Sale In Dakshin Kattali...       3.0        3.0   \n",
       "2674  An Apartment Is Up For Sale In Dakshin Kattali...       3.0        3.0   \n",
       "2674  An Apartment Is Up For Sale In Dakshin Kattali...       3.0        3.0   \n",
       "2674  An Apartment Is Up For Sale In Dakshin Kattali...       3.0        3.0   \n",
       "2674  An Apartment Is Up For Sale In Dakshin Kattali...       3.0        3.0   \n",
       "\n",
       "      Floor_no Occupancy_status  Floor_area        City Price_in_taka  \\\n",
       "2674         4           vacant      1250.0  chattogram    ৳3,800,000   \n",
       "2674         5           vacant      1250.0  chattogram    ৳3,800,000   \n",
       "2674         6           vacant      1250.0  chattogram    ৳3,800,000   \n",
       "2674         7           vacant      1250.0  chattogram    ৳3,800,000   \n",
       "2674         8           vacant      1250.0  chattogram    ৳3,800,000   \n",
       "\n",
       "                                        Location  \n",
       "2674  Dakshin Kattali, 11 No. South Kattali Ward  \n",
       "2674  Dakshin Kattali, 11 No. South Kattali Ward  \n",
       "2674  Dakshin Kattali, 11 No. South Kattali Ward  \n",
       "2674  Dakshin Kattali, 11 No. South Kattali Ward  \n",
       "2674  Dakshin Kattali, 11 No. South Kattali Ward  "
      ]
     },
     "execution_count": 61,
     "metadata": {},
     "output_type": "execute_result"
    }
   ],
   "source": [
    "new_rows_df"
   ]
  },
  {
   "cell_type": "markdown",
   "metadata": {
    "id": "UfpxzyNHxgIQ"
   },
   "source": [
    "#### Moving to where we have character beside the floor number (eg; th, st, ect)"
   ]
  },
  {
   "cell_type": "code",
   "execution_count": 62,
   "metadata": {
    "colab": {
     "base_uri": "https://localhost:8080/",
     "height": 98
    },
    "id": "Y4rRpMd0xgIQ",
    "outputId": "ed1d67eb-5a19-4949-eb0e-2e322d6d2073"
   },
   "outputs": [
    {
     "data": {
      "text/html": [
       "<div>\n",
       "<style scoped>\n",
       "    .dataframe tbody tr th:only-of-type {\n",
       "        vertical-align: middle;\n",
       "    }\n",
       "\n",
       "    .dataframe tbody tr th {\n",
       "        vertical-align: top;\n",
       "    }\n",
       "\n",
       "    .dataframe thead th {\n",
       "        text-align: right;\n",
       "    }\n",
       "</style>\n",
       "<table border=\"1\" class=\"dataframe\">\n",
       "  <thead>\n",
       "    <tr style=\"text-align: right;\">\n",
       "      <th></th>\n",
       "      <th>Title</th>\n",
       "      <th>Bedrooms</th>\n",
       "      <th>Bathrooms</th>\n",
       "      <th>Floor_no</th>\n",
       "      <th>Occupancy_status</th>\n",
       "      <th>Floor_area</th>\n",
       "      <th>City</th>\n",
       "      <th>Price_in_taka</th>\n",
       "      <th>Location</th>\n",
       "    </tr>\n",
       "  </thead>\n",
       "  <tbody>\n",
       "    <tr>\n",
       "      <th>34</th>\n",
       "      <td>An Apartment For Sale Is All Set For You To Se...</td>\n",
       "      <td>3.0</td>\n",
       "      <td>3.0</td>\n",
       "      <td>8th</td>\n",
       "      <td>vacant</td>\n",
       "      <td>1100.0</td>\n",
       "      <td>dhaka</td>\n",
       "      <td>৳4,700,000</td>\n",
       "      <td>Dhaka Uddan, Mohammadpur</td>\n",
       "    </tr>\n",
       "  </tbody>\n",
       "</table>\n",
       "</div>"
      ],
      "text/plain": [
       "                                                Title  Bedrooms  Bathrooms  \\\n",
       "34  An Apartment For Sale Is All Set For You To Se...       3.0        3.0   \n",
       "\n",
       "   Floor_no Occupancy_status  Floor_area   City Price_in_taka  \\\n",
       "34      8th           vacant      1100.0  dhaka    ৳4,700,000   \n",
       "\n",
       "                    Location  \n",
       "34  Dhaka Uddan, Mohammadpur  "
      ]
     },
     "execution_count": 62,
     "metadata": {},
     "output_type": "execute_result"
    }
   ],
   "source": [
    "df_clean[df_clean[\"Floor_no\"] == \"8th\"]"
   ]
  },
  {
   "cell_type": "code",
   "execution_count": 63,
   "metadata": {
    "colab": {
     "base_uri": "https://localhost:8080/",
     "height": 98
    },
    "id": "uo-G05H4xgIQ",
    "outputId": "88f59ad1-b4dc-4dbc-b298-bc9db17f598d"
   },
   "outputs": [
    {
     "data": {
      "text/html": [
       "<div>\n",
       "<style scoped>\n",
       "    .dataframe tbody tr th:only-of-type {\n",
       "        vertical-align: middle;\n",
       "    }\n",
       "\n",
       "    .dataframe tbody tr th {\n",
       "        vertical-align: top;\n",
       "    }\n",
       "\n",
       "    .dataframe thead th {\n",
       "        text-align: right;\n",
       "    }\n",
       "</style>\n",
       "<table border=\"1\" class=\"dataframe\">\n",
       "  <thead>\n",
       "    <tr style=\"text-align: right;\">\n",
       "      <th></th>\n",
       "      <th>Title</th>\n",
       "      <th>Bedrooms</th>\n",
       "      <th>Bathrooms</th>\n",
       "      <th>Floor_no</th>\n",
       "      <th>Occupancy_status</th>\n",
       "      <th>Floor_area</th>\n",
       "      <th>City</th>\n",
       "      <th>Price_in_taka</th>\n",
       "      <th>Location</th>\n",
       "    </tr>\n",
       "  </thead>\n",
       "  <tbody>\n",
       "    <tr>\n",
       "      <th>2126</th>\n",
       "      <td>Take This Residential Flat Is For Sale At Baya...</td>\n",
       "      <td>3.0</td>\n",
       "      <td>2.0</td>\n",
       "      <td>5th</td>\n",
       "      <td>vacant</td>\n",
       "      <td>1162.0</td>\n",
       "      <td>chattogram</td>\n",
       "      <td>৳5,000,000</td>\n",
       "      <td>Chadra Nagar, Bayazid</td>\n",
       "    </tr>\n",
       "  </tbody>\n",
       "</table>\n",
       "</div>"
      ],
      "text/plain": [
       "                                                  Title  Bedrooms  Bathrooms  \\\n",
       "2126  Take This Residential Flat Is For Sale At Baya...       3.0        2.0   \n",
       "\n",
       "     Floor_no Occupancy_status  Floor_area        City Price_in_taka  \\\n",
       "2126      5th           vacant      1162.0  chattogram    ৳5,000,000   \n",
       "\n",
       "                   Location  \n",
       "2126  Chadra Nagar, Bayazid  "
      ]
     },
     "execution_count": 63,
     "metadata": {},
     "output_type": "execute_result"
    }
   ],
   "source": [
    "df_clean[df_clean[\"Floor_no\"] == \"5th\"]"
   ]
  },
  {
   "cell_type": "code",
   "execution_count": 64,
   "metadata": {
    "colab": {
     "base_uri": "https://localhost:8080/",
     "height": 98
    },
    "id": "zHls0URfxgIQ",
    "outputId": "c9d2222c-145c-48a7-b08d-0838e8ae52da"
   },
   "outputs": [
    {
     "data": {
      "text/html": [
       "<div>\n",
       "<style scoped>\n",
       "    .dataframe tbody tr th:only-of-type {\n",
       "        vertical-align: middle;\n",
       "    }\n",
       "\n",
       "    .dataframe tbody tr th {\n",
       "        vertical-align: top;\n",
       "    }\n",
       "\n",
       "    .dataframe thead th {\n",
       "        text-align: right;\n",
       "    }\n",
       "</style>\n",
       "<table border=\"1\" class=\"dataframe\">\n",
       "  <thead>\n",
       "    <tr style=\"text-align: right;\">\n",
       "      <th></th>\n",
       "      <th>Title</th>\n",
       "      <th>Bedrooms</th>\n",
       "      <th>Bathrooms</th>\n",
       "      <th>Floor_no</th>\n",
       "      <th>Occupancy_status</th>\n",
       "      <th>Floor_area</th>\n",
       "      <th>City</th>\n",
       "      <th>Price_in_taka</th>\n",
       "      <th>Location</th>\n",
       "    </tr>\n",
       "  </thead>\n",
       "  <tbody>\n",
       "    <tr>\n",
       "      <th>741</th>\n",
       "      <td>Imagine A Spacious Flat That Comes With Your A...</td>\n",
       "      <td>4.0</td>\n",
       "      <td>5.0</td>\n",
       "      <td>1st</td>\n",
       "      <td>vacant</td>\n",
       "      <td>2380.0</td>\n",
       "      <td>dhaka</td>\n",
       "      <td>৳29,000,000</td>\n",
       "      <td>Block D, Bashundhara R-A</td>\n",
       "    </tr>\n",
       "  </tbody>\n",
       "</table>\n",
       "</div>"
      ],
      "text/plain": [
       "                                                 Title  Bedrooms  Bathrooms  \\\n",
       "741  Imagine A Spacious Flat That Comes With Your A...       4.0        5.0   \n",
       "\n",
       "    Floor_no Occupancy_status  Floor_area   City Price_in_taka  \\\n",
       "741      1st           vacant      2380.0  dhaka   ৳29,000,000   \n",
       "\n",
       "                     Location  \n",
       "741  Block D, Bashundhara R-A  "
      ]
     },
     "execution_count": 64,
     "metadata": {},
     "output_type": "execute_result"
    }
   ],
   "source": [
    "df_clean[df_clean[\"Floor_no\"] == \"1st\"]"
   ]
  },
  {
   "cell_type": "code",
   "execution_count": 65,
   "metadata": {
    "colab": {
     "base_uri": "https://localhost:8080/",
     "height": 98
    },
    "id": "zufdyvSYxgIR",
    "outputId": "e2e0c49e-4564-495a-a103-5f703cec9dcb"
   },
   "outputs": [
    {
     "data": {
      "text/html": [
       "<div>\n",
       "<style scoped>\n",
       "    .dataframe tbody tr th:only-of-type {\n",
       "        vertical-align: middle;\n",
       "    }\n",
       "\n",
       "    .dataframe tbody tr th {\n",
       "        vertical-align: top;\n",
       "    }\n",
       "\n",
       "    .dataframe thead th {\n",
       "        text-align: right;\n",
       "    }\n",
       "</style>\n",
       "<table border=\"1\" class=\"dataframe\">\n",
       "  <thead>\n",
       "    <tr style=\"text-align: right;\">\n",
       "      <th></th>\n",
       "      <th>Title</th>\n",
       "      <th>Bedrooms</th>\n",
       "      <th>Bathrooms</th>\n",
       "      <th>Floor_no</th>\n",
       "      <th>Occupancy_status</th>\n",
       "      <th>Floor_area</th>\n",
       "      <th>City</th>\n",
       "      <th>Price_in_taka</th>\n",
       "      <th>Location</th>\n",
       "    </tr>\n",
       "  </thead>\n",
       "  <tbody>\n",
       "    <tr>\n",
       "      <th>1551</th>\n",
       "      <td>At Bayazid, Flat For Sale Close To Bayazid Thana</td>\n",
       "      <td>3.0</td>\n",
       "      <td>3.0</td>\n",
       "      <td>1F</td>\n",
       "      <td>vacant</td>\n",
       "      <td>1313.0</td>\n",
       "      <td>chattogram</td>\n",
       "      <td>৳6,500,000</td>\n",
       "      <td>Chadra Nagar, Bayazid</td>\n",
       "    </tr>\n",
       "  </tbody>\n",
       "</table>\n",
       "</div>"
      ],
      "text/plain": [
       "                                                 Title  Bedrooms  Bathrooms  \\\n",
       "1551  At Bayazid, Flat For Sale Close To Bayazid Thana       3.0        3.0   \n",
       "\n",
       "     Floor_no Occupancy_status  Floor_area        City Price_in_taka  \\\n",
       "1551       1F           vacant      1313.0  chattogram    ৳6,500,000   \n",
       "\n",
       "                   Location  \n",
       "1551  Chadra Nagar, Bayazid  "
      ]
     },
     "execution_count": 65,
     "metadata": {},
     "output_type": "execute_result"
    }
   ],
   "source": [
    "df_clean[df_clean[\"Floor_no\"] == \"1F\"]"
   ]
  },
  {
   "cell_type": "markdown",
   "metadata": {
    "id": "bY3c67I_xgIR"
   },
   "source": [
    "#### I chose to simply remove the characters"
   ]
  },
  {
   "cell_type": "code",
   "execution_count": 66,
   "metadata": {
    "id": "JWIWoJGgxgIR"
   },
   "outputs": [],
   "source": [
    "df_clean[\"Floor_no\"] = df_clean[\"Floor_no\"].str.replace(r\"th|st|F\", \"\", regex=True)"
   ]
  },
  {
   "cell_type": "markdown",
   "metadata": {
    "id": "4QGZ9lVNxgIR"
   },
   "source": [
    "#### Moving to where we have \"G+7\" & \"0+7\""
   ]
  },
  {
   "cell_type": "code",
   "execution_count": 67,
   "metadata": {
    "colab": {
     "base_uri": "https://localhost:8080/",
     "height": 147
    },
    "id": "sbo4HydexgIR",
    "outputId": "57c28a61-846b-4ca0-feb1-61507a70ec1c"
   },
   "outputs": [
    {
     "data": {
      "text/html": [
       "<div>\n",
       "<style scoped>\n",
       "    .dataframe tbody tr th:only-of-type {\n",
       "        vertical-align: middle;\n",
       "    }\n",
       "\n",
       "    .dataframe tbody tr th {\n",
       "        vertical-align: top;\n",
       "    }\n",
       "\n",
       "    .dataframe thead th {\n",
       "        text-align: right;\n",
       "    }\n",
       "</style>\n",
       "<table border=\"1\" class=\"dataframe\">\n",
       "  <thead>\n",
       "    <tr style=\"text-align: right;\">\n",
       "      <th></th>\n",
       "      <th>Title</th>\n",
       "      <th>Bedrooms</th>\n",
       "      <th>Bathrooms</th>\n",
       "      <th>Floor_no</th>\n",
       "      <th>Occupancy_status</th>\n",
       "      <th>Floor_area</th>\n",
       "      <th>City</th>\n",
       "      <th>Price_in_taka</th>\n",
       "      <th>Location</th>\n",
       "    </tr>\n",
       "  </thead>\n",
       "  <tbody>\n",
       "    <tr>\n",
       "      <th>217</th>\n",
       "      <td>19200 SQ FT Full-Building is now for sale in M...</td>\n",
       "      <td>46.0</td>\n",
       "      <td>10.0</td>\n",
       "      <td>G+7</td>\n",
       "      <td>vacant</td>\n",
       "      <td>19200.0</td>\n",
       "      <td>dhaka</td>\n",
       "      <td>৳75,000,000</td>\n",
       "      <td>Section 1, Mirpur</td>\n",
       "    </tr>\n",
       "    <tr>\n",
       "      <th>1458</th>\n",
       "      <td>A Residential Building Which Is Up For Sale At...</td>\n",
       "      <td>21.0</td>\n",
       "      <td>10.0</td>\n",
       "      <td>0+7</td>\n",
       "      <td>vacant</td>\n",
       "      <td>13300.0</td>\n",
       "      <td>chattogram</td>\n",
       "      <td>৳105,000,000</td>\n",
       "      <td>Rose Valley Residential Area, 9 No. North Paha...</td>\n",
       "    </tr>\n",
       "  </tbody>\n",
       "</table>\n",
       "</div>"
      ],
      "text/plain": [
       "                                                  Title  Bedrooms  Bathrooms  \\\n",
       "217   19200 SQ FT Full-Building is now for sale in M...      46.0       10.0   \n",
       "1458  A Residential Building Which Is Up For Sale At...      21.0       10.0   \n",
       "\n",
       "     Floor_no Occupancy_status  Floor_area        City Price_in_taka  \\\n",
       "217       G+7           vacant     19200.0       dhaka   ৳75,000,000   \n",
       "1458      0+7           vacant     13300.0  chattogram  ৳105,000,000   \n",
       "\n",
       "                                               Location  \n",
       "217                                   Section 1, Mirpur  \n",
       "1458  Rose Valley Residential Area, 9 No. North Paha...  "
      ]
     },
     "execution_count": 67,
     "metadata": {},
     "output_type": "execute_result"
    }
   ],
   "source": [
    "df_clean[(df_clean[\"Floor_no\"] == \"G+7\") | (df_clean[\"Floor_no\"] == \"0+7\")]"
   ]
  },
  {
   "cell_type": "markdown",
   "metadata": {
    "id": "jqjcIMG6xgIW"
   },
   "source": [
    "#### We clearly see from the title that these are buildings, and i interpreted it as follow G+7 = Ground + 7floors, same goes for 0+7, i chose to replace G+7 and 0+7 by 8"
   ]
  },
  {
   "cell_type": "code",
   "execution_count": 68,
   "metadata": {
    "id": "v4jF3DjVxgIW"
   },
   "outputs": [],
   "source": [
    "df_clean[\"Floor_no\"] = df_clean[\"Floor_no\"].str.replace(r\"G\\+7|0\\+7\", \"8\", regex=True)"
   ]
  },
  {
   "cell_type": "markdown",
   "metadata": {
    "id": "xp_epBs1xgIW"
   },
   "source": [
    "#### Moving to where we have \"A1, A2, ..., A7\""
   ]
  },
  {
   "cell_type": "code",
   "execution_count": 69,
   "metadata": {
    "colab": {
     "base_uri": "https://localhost:8080/",
     "height": 115
    },
    "id": "QQSkVu79xgIX",
    "outputId": "5729b29d-e3c3-492c-babd-44eca7e5750f"
   },
   "outputs": [
    {
     "data": {
      "text/html": [
       "<div>\n",
       "<style scoped>\n",
       "    .dataframe tbody tr th:only-of-type {\n",
       "        vertical-align: middle;\n",
       "    }\n",
       "\n",
       "    .dataframe tbody tr th {\n",
       "        vertical-align: top;\n",
       "    }\n",
       "\n",
       "    .dataframe thead th {\n",
       "        text-align: right;\n",
       "    }\n",
       "</style>\n",
       "<table border=\"1\" class=\"dataframe\">\n",
       "  <thead>\n",
       "    <tr style=\"text-align: right;\">\n",
       "      <th></th>\n",
       "      <th>Title</th>\n",
       "      <th>Bedrooms</th>\n",
       "      <th>Bathrooms</th>\n",
       "      <th>Floor_no</th>\n",
       "      <th>Occupancy_status</th>\n",
       "      <th>Floor_area</th>\n",
       "      <th>City</th>\n",
       "      <th>Price_in_taka</th>\n",
       "      <th>Location</th>\n",
       "    </tr>\n",
       "  </thead>\n",
       "  <tbody>\n",
       "    <tr>\n",
       "      <th>1104</th>\n",
       "      <td>A Full Building Is For Sale In Sugandha Reside...</td>\n",
       "      <td>18.0</td>\n",
       "      <td>10.0</td>\n",
       "      <td>A1,A2,A3,A4,A5,A6,A7</td>\n",
       "      <td>vacant</td>\n",
       "      <td>10890.0</td>\n",
       "      <td>chattogram</td>\n",
       "      <td>৳105,000,000</td>\n",
       "      <td>Sugandha Residential Area, Panchlaish</td>\n",
       "    </tr>\n",
       "  </tbody>\n",
       "</table>\n",
       "</div>"
      ],
      "text/plain": [
       "                                                  Title  Bedrooms  Bathrooms  \\\n",
       "1104  A Full Building Is For Sale In Sugandha Reside...      18.0       10.0   \n",
       "\n",
       "                  Floor_no Occupancy_status  Floor_area        City  \\\n",
       "1104  A1,A2,A3,A4,A5,A6,A7           vacant     10890.0  chattogram   \n",
       "\n",
       "     Price_in_taka                               Location  \n",
       "1104  ৳105,000,000  Sugandha Residential Area, Panchlaish  "
      ]
     },
     "execution_count": 69,
     "metadata": {},
     "output_type": "execute_result"
    }
   ],
   "source": [
    "df_clean[df_clean[\"Floor_no\"] == \"A1,A2,A3,A4,A5,A6,A7\"]"
   ]
  },
  {
   "cell_type": "markdown",
   "metadata": {
    "id": "uK2yQAAPxgIX"
   },
   "source": [
    "#### We can see that this is a building containing 7apartments, i chose to replace it by 4floors, each floor contain 2apartment except for the last one that has only 1."
   ]
  },
  {
   "cell_type": "code",
   "execution_count": 70,
   "metadata": {
    "id": "j-0Al5MCxgIX"
   },
   "outputs": [],
   "source": [
    "df_clean[\"Floor_no\"] = df_clean[\"Floor_no\"].str.replace(\"A1,A2,A3,A4,A5,A6,A7\", \"4\")"
   ]
  },
  {
   "cell_type": "markdown",
   "metadata": {
    "id": "oYZU4yFyxgIX"
   },
   "source": [
    "#### Now after cleaning the column we can deal with the missing values"
   ]
  },
  {
   "cell_type": "code",
   "execution_count": 71,
   "metadata": {
    "colab": {
     "base_uri": "https://localhost:8080/",
     "height": 648
    },
    "id": "RzSkNGsSxgIX",
    "outputId": "c1c69477-b8c2-4e41-f666-8653484416ed"
   },
   "outputs": [
    {
     "data": {
      "text/plain": [
       "Floor_no\n",
       "NaN    580\n",
       "1      381\n",
       "4      307\n",
       "5      294\n",
       "2      274\n",
       "3      261\n",
       "6      249\n",
       "7      200\n",
       "8      187\n",
       "9      126\n",
       "10      23\n",
       "11      20\n",
       "12      16\n",
       "13       7\n",
       "14       2\n",
       "18       1\n",
       "17       1\n",
       "Name: count, dtype: int64"
      ]
     },
     "execution_count": 71,
     "metadata": {},
     "output_type": "execute_result"
    }
   ],
   "source": [
    "df_clean[\"Floor_no\"].value_counts(dropna = False)"
   ]
  },
  {
   "cell_type": "code",
   "execution_count": 72,
   "metadata": {
    "id": "MHp2Y-tLxgIY"
   },
   "outputs": [],
   "source": [
    "df_clean[\"Floor_no\"] = df_clean[\"Floor_no\"].astype(\"float\")"
   ]
  },
  {
   "cell_type": "code",
   "execution_count": 73,
   "metadata": {
    "colab": {
     "base_uri": "https://localhost:8080/",
     "height": 366
    },
    "id": "Iik1qiiwxgIY",
    "outputId": "ba7ea350-3b2a-4532-8fde-376907e94c88"
   },
   "outputs": [
    {
     "data": {
      "text/plain": [
       "Title                object\n",
       "Bedrooms            float64\n",
       "Bathrooms           float64\n",
       "Floor_no            float64\n",
       "Occupancy_status     object\n",
       "Floor_area          float64\n",
       "City                 object\n",
       "Price_in_taka        object\n",
       "Location             object\n",
       "dtype: object"
      ]
     },
     "execution_count": 73,
     "metadata": {},
     "output_type": "execute_result"
    }
   ],
   "source": [
    "df_clean.dtypes"
   ]
  },
  {
   "cell_type": "markdown",
   "metadata": {
    "id": "uZamfChTxgIY"
   },
   "source": [
    "#### To clarify Floor_no (floor number) confusion i added a new field (Type of propertie for sale). Floor number can be missleading it might mean the floor number that the appartment exist in, or it can mean the number of floors in a building.\n",
    "#### In order to create these columns i utilized the title column."
   ]
  },
  {
   "cell_type": "code",
   "execution_count": 74,
   "metadata": {
    "id": "FWNpOTZQxgIY"
   },
   "outputs": [],
   "source": [
    "building_pattern = r\"building|complex|condominium|residence\"\n",
    "apartment_pattern = r\"apartment|flat|living space|apt.|duplex\"\n",
    "commercial_pattern = r\"office|shop|retail|business|commercial space|warehouse|factory|store|business center|showroom|industrial space|market|plaza|outlet|commercial\"\n",
    "house_pattern = r\"house|residential|cottage|bungalow|townhouse|family home|detached house|semi-detached house|ranch|estate|home\""
   ]
  },
  {
   "cell_type": "code",
   "execution_count": 75,
   "metadata": {
    "id": "k5ezxmXwzZM8"
   },
   "outputs": [],
   "source": [
    "# prompt: in the dataframe df_clean create a new column property_type. it will hold 'building','apartment','commercial','bungalow/townhouse' wherever building_pattern,apartment_pattern,commercial_pattern and house_pattern would be found in the title respectively\n",
    "\n",
    "import re\n",
    "\n",
    "\n",
    "\n",
    "# Create the 'property_type' column\n",
    "df_clean['property_type'] = 'Unknown'\n",
    "\n",
    "# Apply patterns to the 'title' column\n",
    "df_clean.loc[df_clean['Title'].str.contains(building_pattern, flags=re.IGNORECASE, regex=True), 'property_type'] = 'building'\n",
    "df_clean.loc[df_clean['Title'].str.contains(apartment_pattern, flags=re.IGNORECASE, regex=True), 'property_type'] = 'apartment'\n",
    "df_clean.loc[df_clean['Title'].str.contains(commercial_pattern, flags=re.IGNORECASE, regex=True), 'property_type'] = 'commercial'\n",
    "df_clean.loc[df_clean['Title'].str.contains(house_pattern, flags=re.IGNORECASE, regex=True), 'property_type'] = 'bungalow/townhouse'\n"
   ]
  },
  {
   "cell_type": "code",
   "execution_count": 76,
   "metadata": {
    "colab": {
     "base_uri": "https://localhost:8080/",
     "height": 272
    },
    "id": "j7PYQVEFmWDl",
    "outputId": "779c794a-bf6d-4378-abc1-68225574c0a3"
   },
   "outputs": [
    {
     "data": {
      "text/plain": [
       "property_type\n",
       "apartment             1698\n",
       "bungalow/townhouse     532\n",
       "commercial             355\n",
       "Unknown                292\n",
       "building                52\n",
       "Name: count, dtype: int64"
      ]
     },
     "execution_count": 76,
     "metadata": {},
     "output_type": "execute_result"
    }
   ],
   "source": [
    "df_clean['property_type'].value_counts()"
   ]
  },
  {
   "cell_type": "code",
   "execution_count": 77,
   "metadata": {
    "colab": {
     "base_uri": "https://localhost:8080/",
     "height": 362
    },
    "id": "FowRlkHR03Jz",
    "outputId": "8c32a0ea-7de0-4be3-b405-72d98407877f"
   },
   "outputs": [
    {
     "data": {
      "text/html": [
       "<div>\n",
       "<style scoped>\n",
       "    .dataframe tbody tr th:only-of-type {\n",
       "        vertical-align: middle;\n",
       "    }\n",
       "\n",
       "    .dataframe tbody tr th {\n",
       "        vertical-align: top;\n",
       "    }\n",
       "\n",
       "    .dataframe thead th {\n",
       "        text-align: right;\n",
       "    }\n",
       "</style>\n",
       "<table border=\"1\" class=\"dataframe\">\n",
       "  <thead>\n",
       "    <tr style=\"text-align: right;\">\n",
       "      <th></th>\n",
       "      <th>Title</th>\n",
       "      <th>Bedrooms</th>\n",
       "      <th>Bathrooms</th>\n",
       "      <th>Floor_no</th>\n",
       "      <th>Occupancy_status</th>\n",
       "      <th>Floor_area</th>\n",
       "      <th>City</th>\n",
       "      <th>Price_in_taka</th>\n",
       "      <th>Location</th>\n",
       "      <th>property_type</th>\n",
       "    </tr>\n",
       "  </thead>\n",
       "  <tbody>\n",
       "    <tr>\n",
       "      <th>137</th>\n",
       "      <td>Live Permanently In A 1550 Sq Ft Property, Whi...</td>\n",
       "      <td>3.0</td>\n",
       "      <td>3.0</td>\n",
       "      <td>2.0</td>\n",
       "      <td>vacant</td>\n",
       "      <td>1550.0</td>\n",
       "      <td>dhaka</td>\n",
       "      <td>৳14,500,000</td>\n",
       "      <td>Uttar Badda, Badda</td>\n",
       "      <td>Unknown</td>\n",
       "    </tr>\n",
       "    <tr>\n",
       "      <th>138</th>\n",
       "      <td>Ideal 8.08 Katha Plot For Sale In Gulshan 1</td>\n",
       "      <td>NaN</td>\n",
       "      <td>NaN</td>\n",
       "      <td>NaN</td>\n",
       "      <td>vacant</td>\n",
       "      <td>5824.0</td>\n",
       "      <td>dhaka</td>\n",
       "      <td>৳300,000,000</td>\n",
       "      <td>Gulshan 1, Gulshan</td>\n",
       "      <td>Unknown</td>\n",
       "    </tr>\n",
       "    <tr>\n",
       "      <th>176</th>\n",
       "      <td>In the location of Mirpur, very close to Medic...</td>\n",
       "      <td>2.0</td>\n",
       "      <td>2.0</td>\n",
       "      <td>5.0</td>\n",
       "      <td>vacant</td>\n",
       "      <td>800.0</td>\n",
       "      <td>dhaka</td>\n",
       "      <td>৳3,700,000</td>\n",
       "      <td>Section 6, Mirpur</td>\n",
       "      <td>Unknown</td>\n",
       "    </tr>\n",
       "    <tr>\n",
       "      <th>560</th>\n",
       "      <td>Have A Look At This 1900 Sq Ft Property Which ...</td>\n",
       "      <td>4.0</td>\n",
       "      <td>4.0</td>\n",
       "      <td>9.0</td>\n",
       "      <td>vacant</td>\n",
       "      <td>1900.0</td>\n",
       "      <td>dhaka</td>\n",
       "      <td>৳19,000,000</td>\n",
       "      <td>Block D, Bashundhara R-A</td>\n",
       "      <td>Unknown</td>\n",
       "    </tr>\n",
       "    <tr>\n",
       "      <th>612</th>\n",
       "      <td>3 Katha Plot is now available for sale in Purb...</td>\n",
       "      <td>NaN</td>\n",
       "      <td>NaN</td>\n",
       "      <td>NaN</td>\n",
       "      <td>vacant</td>\n",
       "      <td>2160.0</td>\n",
       "      <td>dhaka</td>\n",
       "      <td>৳29,000,000</td>\n",
       "      <td>Sector 17, Purbachal</td>\n",
       "      <td>Unknown</td>\n",
       "    </tr>\n",
       "  </tbody>\n",
       "</table>\n",
       "</div>"
      ],
      "text/plain": [
       "                                                 Title  Bedrooms  Bathrooms  \\\n",
       "137  Live Permanently In A 1550 Sq Ft Property, Whi...       3.0        3.0   \n",
       "138        Ideal 8.08 Katha Plot For Sale In Gulshan 1       NaN        NaN   \n",
       "176  In the location of Mirpur, very close to Medic...       2.0        2.0   \n",
       "560  Have A Look At This 1900 Sq Ft Property Which ...       4.0        4.0   \n",
       "612  3 Katha Plot is now available for sale in Purb...       NaN        NaN   \n",
       "\n",
       "     Floor_no Occupancy_status  Floor_area   City Price_in_taka  \\\n",
       "137       2.0           vacant      1550.0  dhaka   ৳14,500,000   \n",
       "138       NaN           vacant      5824.0  dhaka  ৳300,000,000   \n",
       "176       5.0           vacant       800.0  dhaka    ৳3,700,000   \n",
       "560       9.0           vacant      1900.0  dhaka   ৳19,000,000   \n",
       "612       NaN           vacant      2160.0  dhaka   ৳29,000,000   \n",
       "\n",
       "                     Location property_type  \n",
       "137        Uttar Badda, Badda       Unknown  \n",
       "138        Gulshan 1, Gulshan       Unknown  \n",
       "176         Section 6, Mirpur       Unknown  \n",
       "560  Block D, Bashundhara R-A       Unknown  \n",
       "612      Sector 17, Purbachal       Unknown  "
      ]
     },
     "execution_count": 77,
     "metadata": {},
     "output_type": "execute_result"
    }
   ],
   "source": [
    "df_clean[df_clean['property_type']=='Unknown'].head()"
   ]
  },
  {
   "cell_type": "markdown",
   "metadata": {
    "id": "2wAhQQ5u3EYz"
   },
   "source": [
    "we can see that there are lot of land properties so we can remove those since we are only working with housing\n"
   ]
  },
  {
   "cell_type": "code",
   "execution_count": 78,
   "metadata": {
    "id": "brnvz_R93d5k"
   },
   "outputs": [],
   "source": [
    "# prompt: remove rows where the Title contains ' Plot| plot| Katha| katha'\n",
    "\n",
    "import pandas as pd\n",
    "import re\n",
    "\n",
    "# Assuming your DataFrame is named 'df_clean'\n",
    "# Create a copy to avoid modifying the original DataFrame directly\n",
    "df_cleaned = df_clean.copy()\n",
    "\n",
    "# Define the pattern for the strings to remove\n",
    "pattern = r\"Plot|plot|Katha|katha\"\n",
    "\n",
    "# Use boolean indexing to filter out rows where 'Title' matches the pattern\n",
    "df_cleaned = df_cleaned[~df_cleaned['Title'].str.contains(pattern, flags=re.IGNORECASE, regex=True)]\n",
    "\n",
    "\n",
    "\n"
   ]
  },
  {
   "cell_type": "code",
   "execution_count": 79,
   "metadata": {
    "colab": {
     "base_uri": "https://localhost:8080/",
     "height": 272
    },
    "id": "4A7gUK_TnAqN",
    "outputId": "173ac3de-c80b-4d5c-d88f-3a76b031474f"
   },
   "outputs": [
    {
     "data": {
      "text/plain": [
       "property_type\n",
       "apartment             1695\n",
       "bungalow/townhouse     383\n",
       "commercial             347\n",
       "building                44\n",
       "Unknown                 15\n",
       "Name: count, dtype: int64"
      ]
     },
     "execution_count": 79,
     "metadata": {},
     "output_type": "execute_result"
    }
   ],
   "source": [
    "df_cleaned['property_type'].value_counts()"
   ]
  },
  {
   "cell_type": "code",
   "execution_count": 80,
   "metadata": {
    "colab": {
     "base_uri": "https://localhost:8080/",
     "height": 1000
    },
    "id": "22COHahTnKJU",
    "outputId": "c57d1691-60b1-4190-fd9f-d3bba07ef853"
   },
   "outputs": [
    {
     "data": {
      "text/html": [
       "<div>\n",
       "<style scoped>\n",
       "    .dataframe tbody tr th:only-of-type {\n",
       "        vertical-align: middle;\n",
       "    }\n",
       "\n",
       "    .dataframe tbody tr th {\n",
       "        vertical-align: top;\n",
       "    }\n",
       "\n",
       "    .dataframe thead th {\n",
       "        text-align: right;\n",
       "    }\n",
       "</style>\n",
       "<table border=\"1\" class=\"dataframe\">\n",
       "  <thead>\n",
       "    <tr style=\"text-align: right;\">\n",
       "      <th></th>\n",
       "      <th>Title</th>\n",
       "      <th>Bedrooms</th>\n",
       "      <th>Bathrooms</th>\n",
       "      <th>Floor_no</th>\n",
       "      <th>Occupancy_status</th>\n",
       "      <th>Floor_area</th>\n",
       "      <th>City</th>\n",
       "      <th>Price_in_taka</th>\n",
       "      <th>Location</th>\n",
       "      <th>property_type</th>\n",
       "    </tr>\n",
       "  </thead>\n",
       "  <tbody>\n",
       "    <tr>\n",
       "      <th>137</th>\n",
       "      <td>Live Permanently In A 1550 Sq Ft Property, Whi...</td>\n",
       "      <td>3.0</td>\n",
       "      <td>3.0</td>\n",
       "      <td>2.0</td>\n",
       "      <td>vacant</td>\n",
       "      <td>1550.0</td>\n",
       "      <td>dhaka</td>\n",
       "      <td>৳14,500,000</td>\n",
       "      <td>Uttar Badda, Badda</td>\n",
       "      <td>Unknown</td>\n",
       "    </tr>\n",
       "    <tr>\n",
       "      <th>176</th>\n",
       "      <td>In the location of Mirpur, very close to Medic...</td>\n",
       "      <td>2.0</td>\n",
       "      <td>2.0</td>\n",
       "      <td>5.0</td>\n",
       "      <td>vacant</td>\n",
       "      <td>800.0</td>\n",
       "      <td>dhaka</td>\n",
       "      <td>৳3,700,000</td>\n",
       "      <td>Section 6, Mirpur</td>\n",
       "      <td>Unknown</td>\n",
       "    </tr>\n",
       "    <tr>\n",
       "      <th>560</th>\n",
       "      <td>Have A Look At This 1900 Sq Ft Property Which ...</td>\n",
       "      <td>4.0</td>\n",
       "      <td>4.0</td>\n",
       "      <td>9.0</td>\n",
       "      <td>vacant</td>\n",
       "      <td>1900.0</td>\n",
       "      <td>dhaka</td>\n",
       "      <td>৳19,000,000</td>\n",
       "      <td>Block D, Bashundhara R-A</td>\n",
       "      <td>Unknown</td>\n",
       "    </tr>\n",
       "    <tr>\n",
       "      <th>797</th>\n",
       "      <td>Prominent Location And Splendid Outlook, This ...</td>\n",
       "      <td>NaN</td>\n",
       "      <td>NaN</td>\n",
       "      <td>2.0</td>\n",
       "      <td>vacant</td>\n",
       "      <td>1700.0</td>\n",
       "      <td>dhaka</td>\n",
       "      <td>৳11,600,000</td>\n",
       "      <td>East Monipur, Mirpur</td>\n",
       "      <td>Unknown</td>\n",
       "    </tr>\n",
       "    <tr>\n",
       "      <th>802</th>\n",
       "      <td>Have A Look At This 1100 Sq Ft Property Which ...</td>\n",
       "      <td>3.0</td>\n",
       "      <td>3.0</td>\n",
       "      <td>9.0</td>\n",
       "      <td>vacant</td>\n",
       "      <td>1100.0</td>\n",
       "      <td>dhaka</td>\n",
       "      <td>৳6,500,000</td>\n",
       "      <td>Section 12, Mirpur</td>\n",
       "      <td>Unknown</td>\n",
       "    </tr>\n",
       "    <tr>\n",
       "      <th>1278</th>\n",
       "      <td>Convenient 1222 Sq Ft Is Now For Sale In Kadam...</td>\n",
       "      <td>3.0</td>\n",
       "      <td>3.0</td>\n",
       "      <td>5.0</td>\n",
       "      <td>vacant</td>\n",
       "      <td>1222.0</td>\n",
       "      <td>chattogram</td>\n",
       "      <td>৳4,888,000</td>\n",
       "      <td>23 No. North Pathantooly Ward, Double Mooring</td>\n",
       "      <td>Unknown</td>\n",
       "    </tr>\n",
       "    <tr>\n",
       "      <th>1306</th>\n",
       "      <td>Buy This 1650 Sq Ft Fat In 15 No. Bagmoniram W...</td>\n",
       "      <td>3.0</td>\n",
       "      <td>4.0</td>\n",
       "      <td>3.0</td>\n",
       "      <td>vacant</td>\n",
       "      <td>1650.0</td>\n",
       "      <td>chattogram</td>\n",
       "      <td>৳12,000,000</td>\n",
       "      <td>Nasirabad, 15 No. Bagmoniram Ward</td>\n",
       "      <td>Unknown</td>\n",
       "    </tr>\n",
       "    <tr>\n",
       "      <th>1367</th>\n",
       "      <td>test listing ma 24.6:2</td>\n",
       "      <td>NaN</td>\n",
       "      <td>NaN</td>\n",
       "      <td>NaN</td>\n",
       "      <td>NaN</td>\n",
       "      <td>NaN</td>\n",
       "      <td>chattogram</td>\n",
       "      <td>৳54,235</td>\n",
       "      <td>NaN</td>\n",
       "      <td>Unknown</td>\n",
       "    </tr>\n",
       "    <tr>\n",
       "      <th>1368</th>\n",
       "      <td>test listing ma 22.6:2</td>\n",
       "      <td>NaN</td>\n",
       "      <td>NaN</td>\n",
       "      <td>NaN</td>\n",
       "      <td>NaN</td>\n",
       "      <td>NaN</td>\n",
       "      <td>chattogram</td>\n",
       "      <td>৳6,669</td>\n",
       "      <td>NaN</td>\n",
       "      <td>Unknown</td>\n",
       "    </tr>\n",
       "    <tr>\n",
       "      <th>1406</th>\n",
       "      <td>tesdt 2</td>\n",
       "      <td>NaN</td>\n",
       "      <td>NaN</td>\n",
       "      <td>NaN</td>\n",
       "      <td>NaN</td>\n",
       "      <td>NaN</td>\n",
       "      <td>chattogram</td>\n",
       "      <td>৳66</td>\n",
       "      <td>NaN</td>\n",
       "      <td>Unknown</td>\n",
       "    </tr>\n",
       "    <tr>\n",
       "      <th>1641</th>\n",
       "      <td>Have A Look At This 1253 Sq Ft Property Which ...</td>\n",
       "      <td>3.0</td>\n",
       "      <td>3.0</td>\n",
       "      <td>2.0</td>\n",
       "      <td>vacant</td>\n",
       "      <td>1253.0</td>\n",
       "      <td>chattogram</td>\n",
       "      <td>৳5,638,500</td>\n",
       "      <td>Dewan Bazar, Bakalia</td>\n",
       "      <td>Unknown</td>\n",
       "    </tr>\n",
       "    <tr>\n",
       "      <th>1950</th>\n",
       "      <td>Persuade This Serene Locality To Live In While...</td>\n",
       "      <td>3.0</td>\n",
       "      <td>3.0</td>\n",
       "      <td>5.0</td>\n",
       "      <td>vacant</td>\n",
       "      <td>1615.0</td>\n",
       "      <td>chattogram</td>\n",
       "      <td>৳11,500,000</td>\n",
       "      <td>Jamal Khan By-Lane, Jamal Khan</td>\n",
       "      <td>Unknown</td>\n",
       "    </tr>\n",
       "    <tr>\n",
       "      <th>2063</th>\n",
       "      <td>test lsitin ma</td>\n",
       "      <td>NaN</td>\n",
       "      <td>NaN</td>\n",
       "      <td>NaN</td>\n",
       "      <td>NaN</td>\n",
       "      <td>NaN</td>\n",
       "      <td>chattogram</td>\n",
       "      <td>৳434,434</td>\n",
       "      <td>NaN</td>\n",
       "      <td>Unknown</td>\n",
       "    </tr>\n",
       "    <tr>\n",
       "      <th>2068</th>\n",
       "      <td>test listing ma 21.6:8</td>\n",
       "      <td>NaN</td>\n",
       "      <td>NaN</td>\n",
       "      <td>NaN</td>\n",
       "      <td>NaN</td>\n",
       "      <td>NaN</td>\n",
       "      <td>chattogram</td>\n",
       "      <td>৳566</td>\n",
       "      <td>NaN</td>\n",
       "      <td>Unknown</td>\n",
       "    </tr>\n",
       "    <tr>\n",
       "      <th>2081</th>\n",
       "      <td>Have A Look At This 1304 Sq Ft Property Which ...</td>\n",
       "      <td>3.0</td>\n",
       "      <td>3.0</td>\n",
       "      <td>7.0</td>\n",
       "      <td>vacant</td>\n",
       "      <td>1304.0</td>\n",
       "      <td>chattogram</td>\n",
       "      <td>৳5,998,400</td>\n",
       "      <td>Ishan Mohajon Road, 10 No. North Kattali Ward</td>\n",
       "      <td>Unknown</td>\n",
       "    </tr>\n",
       "  </tbody>\n",
       "</table>\n",
       "</div>"
      ],
      "text/plain": [
       "                                                  Title  Bedrooms  Bathrooms  \\\n",
       "137   Live Permanently In A 1550 Sq Ft Property, Whi...       3.0        3.0   \n",
       "176   In the location of Mirpur, very close to Medic...       2.0        2.0   \n",
       "560   Have A Look At This 1900 Sq Ft Property Which ...       4.0        4.0   \n",
       "797   Prominent Location And Splendid Outlook, This ...       NaN        NaN   \n",
       "802   Have A Look At This 1100 Sq Ft Property Which ...       3.0        3.0   \n",
       "1278  Convenient 1222 Sq Ft Is Now For Sale In Kadam...       3.0        3.0   \n",
       "1306  Buy This 1650 Sq Ft Fat In 15 No. Bagmoniram W...       3.0        4.0   \n",
       "1367                             test listing ma 24.6:2       NaN        NaN   \n",
       "1368                             test listing ma 22.6:2       NaN        NaN   \n",
       "1406                                            tesdt 2       NaN        NaN   \n",
       "1641  Have A Look At This 1253 Sq Ft Property Which ...       3.0        3.0   \n",
       "1950  Persuade This Serene Locality To Live In While...       3.0        3.0   \n",
       "2063                                     test lsitin ma       NaN        NaN   \n",
       "2068                             test listing ma 21.6:8       NaN        NaN   \n",
       "2081  Have A Look At This 1304 Sq Ft Property Which ...       3.0        3.0   \n",
       "\n",
       "      Floor_no Occupancy_status  Floor_area        City Price_in_taka  \\\n",
       "137        2.0           vacant      1550.0       dhaka   ৳14,500,000   \n",
       "176        5.0           vacant       800.0       dhaka    ৳3,700,000   \n",
       "560        9.0           vacant      1900.0       dhaka   ৳19,000,000   \n",
       "797        2.0           vacant      1700.0       dhaka   ৳11,600,000   \n",
       "802        9.0           vacant      1100.0       dhaka    ৳6,500,000   \n",
       "1278       5.0           vacant      1222.0  chattogram    ৳4,888,000   \n",
       "1306       3.0           vacant      1650.0  chattogram   ৳12,000,000   \n",
       "1367       NaN              NaN         NaN  chattogram       ৳54,235   \n",
       "1368       NaN              NaN         NaN  chattogram        ৳6,669   \n",
       "1406       NaN              NaN         NaN  chattogram           ৳66   \n",
       "1641       2.0           vacant      1253.0  chattogram    ৳5,638,500   \n",
       "1950       5.0           vacant      1615.0  chattogram   ৳11,500,000   \n",
       "2063       NaN              NaN         NaN  chattogram      ৳434,434   \n",
       "2068       NaN              NaN         NaN  chattogram          ৳566   \n",
       "2081       7.0           vacant      1304.0  chattogram    ৳5,998,400   \n",
       "\n",
       "                                           Location property_type  \n",
       "137                              Uttar Badda, Badda       Unknown  \n",
       "176                               Section 6, Mirpur       Unknown  \n",
       "560                        Block D, Bashundhara R-A       Unknown  \n",
       "797                            East Monipur, Mirpur       Unknown  \n",
       "802                              Section 12, Mirpur       Unknown  \n",
       "1278  23 No. North Pathantooly Ward, Double Mooring       Unknown  \n",
       "1306              Nasirabad, 15 No. Bagmoniram Ward       Unknown  \n",
       "1367                                            NaN       Unknown  \n",
       "1368                                            NaN       Unknown  \n",
       "1406                                            NaN       Unknown  \n",
       "1641                           Dewan Bazar, Bakalia       Unknown  \n",
       "1950                 Jamal Khan By-Lane, Jamal Khan       Unknown  \n",
       "2063                                            NaN       Unknown  \n",
       "2068                                            NaN       Unknown  \n",
       "2081  Ishan Mohajon Road, 10 No. North Kattali Ward       Unknown  "
      ]
     },
     "execution_count": 80,
     "metadata": {},
     "output_type": "execute_result"
    }
   ],
   "source": [
    "df_cleaned[df_cleaned['property_type']=='Unknown']"
   ]
  },
  {
   "cell_type": "markdown",
   "metadata": {
    "id": "huMoGqNRwk9L"
   },
   "source": [
    "for the other rows we can consider the properties to be apartments"
   ]
  },
  {
   "cell_type": "code",
   "execution_count": 82,
   "metadata": {
    "id": "ApgAjA6gwpAU"
   },
   "outputs": [],
   "source": [
    "# prompt: for the rows that have 'Unknown' in the property_type column replace those with 'apartment' on property_type\n",
    "\n",
    "# Replace 'Unknown' values in 'property_type' with 'apartment'\n",
    "df_cleaned.loc[df_cleaned['property_type'] == 'Unknown', 'property_type'] = 'apartment'\n"
   ]
  },
  {
   "cell_type": "code",
   "execution_count": 83,
   "metadata": {
    "colab": {
     "base_uri": "https://localhost:8080/",
     "height": 241
    },
    "id": "5fhgzlO9xI-i",
    "outputId": "45fba151-f895-40e0-cccf-09f8ede1a64f"
   },
   "outputs": [
    {
     "data": {
      "text/plain": [
       "property_type\n",
       "apartment             1710\n",
       "bungalow/townhouse     383\n",
       "commercial             347\n",
       "building                44\n",
       "Name: count, dtype: int64"
      ]
     },
     "execution_count": 83,
     "metadata": {},
     "output_type": "execute_result"
    }
   ],
   "source": [
    "df_cleaned['property_type'].value_counts()"
   ]
  },
  {
   "cell_type": "code",
   "execution_count": 84,
   "metadata": {
    "colab": {
     "base_uri": "https://localhost:8080/",
     "height": 272
    },
    "id": "BuPx53E_xclN",
    "outputId": "44a9e71f-6916-405e-bb16-4bd33f24dded"
   },
   "outputs": [
    {
     "data": {
      "text/plain": [
       "City\n",
       "chattogram          1151\n",
       "dhaka               1042\n",
       "gazipur              148\n",
       "cumilla              137\n",
       "narayanganj-city       6\n",
       "Name: count, dtype: int64"
      ]
     },
     "execution_count": 84,
     "metadata": {},
     "output_type": "execute_result"
    }
   ],
   "source": [
    "df_cleaned['City'].value_counts()"
   ]
  },
  {
   "cell_type": "code",
   "execution_count": 85,
   "metadata": {
    "id": "yk3fLCCJyDlw"
   },
   "outputs": [],
   "source": [
    "df_clean=df_cleaned.copy()"
   ]
  },
  {
   "cell_type": "code",
   "execution_count": 86,
   "metadata": {
    "id": "SwUlHKLFy2Aa"
   },
   "outputs": [],
   "source": [
    "# prompt: replace the values in the City column\n",
    "#  \"chattogram\": \"Chattogram_city\",\n",
    "#                                       \"cumilla\": \"Cumilla_city\",\n",
    "#                                       \"dhaka\": \"Dhaka_city\",\n",
    "#                                       \"narayanganj-city\": \"Narayanganj_city\",\n",
    "#                                       \"gazipur\": \"Gazipur_city\"\n",
    "\n",
    "# Replace values in the 'City' column\n",
    "city_mapping = {\n",
    "    \"chattogram\": \"Chattogram_city\",\n",
    "    \"cumilla\": \"Cumilla_city\",\n",
    "    \"dhaka\": \"Dhaka_city\",\n",
    "    \"narayanganj-city\": \"Narayanganj_city\",\n",
    "    \"gazipur\": \"Gazipur_city\"\n",
    "}\n",
    "\n",
    "df_clean['City'] = df_clean['City'].replace(city_mapping)\n"
   ]
  },
  {
   "cell_type": "code",
   "execution_count": 87,
   "metadata": {
    "colab": {
     "base_uri": "https://localhost:8080/",
     "height": 397
    },
    "id": "p0O7ajCaxgIZ",
    "outputId": "64477419-fb41-49f6-e417-fa2294f905e0"
   },
   "outputs": [
    {
     "data": {
      "text/html": [
       "<div>\n",
       "<style scoped>\n",
       "    .dataframe tbody tr th:only-of-type {\n",
       "        vertical-align: middle;\n",
       "    }\n",
       "\n",
       "    .dataframe tbody tr th {\n",
       "        vertical-align: top;\n",
       "    }\n",
       "\n",
       "    .dataframe thead th {\n",
       "        text-align: right;\n",
       "    }\n",
       "</style>\n",
       "<table border=\"1\" class=\"dataframe\">\n",
       "  <thead>\n",
       "    <tr style=\"text-align: right;\">\n",
       "      <th></th>\n",
       "      <th>Title</th>\n",
       "      <th>Bedrooms</th>\n",
       "      <th>Bathrooms</th>\n",
       "      <th>Floor_no</th>\n",
       "      <th>Occupancy_status</th>\n",
       "      <th>Floor_area</th>\n",
       "      <th>City</th>\n",
       "      <th>Price_in_taka</th>\n",
       "      <th>Location</th>\n",
       "      <th>property_type</th>\n",
       "    </tr>\n",
       "  </thead>\n",
       "  <tbody>\n",
       "    <tr>\n",
       "      <th>0</th>\n",
       "      <td>We Are Offering You A Very Spacious 1960 Sq Ft...</td>\n",
       "      <td>3.0</td>\n",
       "      <td>4.0</td>\n",
       "      <td>3.0</td>\n",
       "      <td>vacant</td>\n",
       "      <td>1960.0</td>\n",
       "      <td>Dhaka_city</td>\n",
       "      <td>৳39,000,000</td>\n",
       "      <td>Gulshan 1, Gulshan</td>\n",
       "      <td>apartment</td>\n",
       "    </tr>\n",
       "    <tr>\n",
       "      <th>1</th>\n",
       "      <td>Valuable 1705 Square Feet Apartment Is Ready T...</td>\n",
       "      <td>3.0</td>\n",
       "      <td>3.0</td>\n",
       "      <td>1.0</td>\n",
       "      <td>vacant</td>\n",
       "      <td>1705.0</td>\n",
       "      <td>Dhaka_city</td>\n",
       "      <td>৳16,900,000</td>\n",
       "      <td>Lake Circus Road, Kalabagan</td>\n",
       "      <td>apartment</td>\n",
       "    </tr>\n",
       "    <tr>\n",
       "      <th>2</th>\n",
       "      <td>1370 square feet apartment is ready to sale in...</td>\n",
       "      <td>3.0</td>\n",
       "      <td>3.0</td>\n",
       "      <td>6.0</td>\n",
       "      <td>vacant</td>\n",
       "      <td>1370.0</td>\n",
       "      <td>Dhaka_city</td>\n",
       "      <td>৳12,500,000</td>\n",
       "      <td>Shukrabad, Dhanmondi</td>\n",
       "      <td>apartment</td>\n",
       "    </tr>\n",
       "    <tr>\n",
       "      <th>3</th>\n",
       "      <td>2125 Square Feet Apartment For Sale In Bashund...</td>\n",
       "      <td>3.0</td>\n",
       "      <td>3.0</td>\n",
       "      <td>4.0</td>\n",
       "      <td>vacant</td>\n",
       "      <td>2125.0</td>\n",
       "      <td>Dhaka_city</td>\n",
       "      <td>৳20,000,000</td>\n",
       "      <td>Block L, Bashundhara R-A</td>\n",
       "      <td>apartment</td>\n",
       "    </tr>\n",
       "    <tr>\n",
       "      <th>4</th>\n",
       "      <td>Buy This 2687 Square Feet Flat In The Nice Are...</td>\n",
       "      <td>3.0</td>\n",
       "      <td>3.0</td>\n",
       "      <td>4.0</td>\n",
       "      <td>vacant</td>\n",
       "      <td>2687.0</td>\n",
       "      <td>Dhaka_city</td>\n",
       "      <td>৳47,500,000</td>\n",
       "      <td>Road No 25, Banani</td>\n",
       "      <td>apartment</td>\n",
       "    </tr>\n",
       "  </tbody>\n",
       "</table>\n",
       "</div>"
      ],
      "text/plain": [
       "                                               Title  Bedrooms  Bathrooms  \\\n",
       "0  We Are Offering You A Very Spacious 1960 Sq Ft...       3.0        4.0   \n",
       "1  Valuable 1705 Square Feet Apartment Is Ready T...       3.0        3.0   \n",
       "2  1370 square feet apartment is ready to sale in...       3.0        3.0   \n",
       "3  2125 Square Feet Apartment For Sale In Bashund...       3.0        3.0   \n",
       "4  Buy This 2687 Square Feet Flat In The Nice Are...       3.0        3.0   \n",
       "\n",
       "   Floor_no Occupancy_status  Floor_area        City Price_in_taka  \\\n",
       "0       3.0           vacant      1960.0  Dhaka_city   ৳39,000,000   \n",
       "1       1.0           vacant      1705.0  Dhaka_city   ৳16,900,000   \n",
       "2       6.0           vacant      1370.0  Dhaka_city   ৳12,500,000   \n",
       "3       4.0           vacant      2125.0  Dhaka_city   ৳20,000,000   \n",
       "4       4.0           vacant      2687.0  Dhaka_city   ৳47,500,000   \n",
       "\n",
       "                      Location property_type  \n",
       "0           Gulshan 1, Gulshan     apartment  \n",
       "1  Lake Circus Road, Kalabagan     apartment  \n",
       "2         Shukrabad, Dhanmondi     apartment  \n",
       "3     Block L, Bashundhara R-A     apartment  \n",
       "4           Road No 25, Banani     apartment  "
      ]
     },
     "execution_count": 87,
     "metadata": {},
     "output_type": "execute_result"
    }
   ],
   "source": [
    "df_clean.head()"
   ]
  },
  {
   "cell_type": "code",
   "execution_count": 88,
   "metadata": {
    "id": "gh_mpiv3xgIa"
   },
   "outputs": [],
   "source": [
    "#pd.set_option('display.max_colwidth', None)\n",
    "#pd.reset_option('display.max_colwidth')"
   ]
  },
  {
   "cell_type": "markdown",
   "metadata": {
    "id": "-D3kyGGDEMGI"
   },
   "source": []
  },
  {
   "cell_type": "markdown",
   "metadata": {
    "id": "kTrzZuUIxgIa"
   },
   "source": [
    "### Missing values of bedrooms, bathrooms and floor number columns"
   ]
  },
  {
   "cell_type": "markdown",
   "metadata": {
    "id": "mog_lc9nxgIa"
   },
   "source": [
    "#### We have 18 floor_no and we have building , appartment , house and commercial. Now i calculated median for each floor_no for building, appartment, house, and for commercial. After that i used these medians that we calculated to fill missing values of bedrooms and bathrooms in each 18floor_no and each property type (building apprtement house and commercial)"
   ]
  },
  {
   "cell_type": "code",
   "execution_count": 89,
   "metadata": {
    "colab": {
     "base_uri": "https://localhost:8080/",
     "height": 178
    },
    "id": "_zkXH07V1gFR",
    "outputId": "8998c887-1d16-4181-be7f-91fc5adc0770"
   },
   "outputs": [
    {
     "data": {
      "text/plain": [
       "Bedrooms     386\n",
       "Floor_no     144\n",
       "Bathrooms    386\n",
       "dtype: int64"
      ]
     },
     "execution_count": 89,
     "metadata": {},
     "output_type": "execute_result"
    }
   ],
   "source": [
    "df_clean[['Bedrooms','Floor_no','Bathrooms']].isna().sum()"
   ]
  },
  {
   "cell_type": "code",
   "execution_count": 90,
   "metadata": {
    "colab": {
     "base_uri": "https://localhost:8080/"
    },
    "id": "e56rcb_w5CAD",
    "outputId": "feb684bb-efd3-4ff5-f997-210d0d8ea2c5"
   },
   "outputs": [
    {
     "name": "stdout",
     "output_type": "stream",
     "text": [
      "Number of rows with 'building' property type and missing Bedrooms or Bathrooms: 3\n",
      "Number of rows with 'commercial' property type and missing Bedrooms or Bathrooms: 321\n",
      "Number of rows with 'apartment' property type and missing Bedrooms or Bathrooms: 48\n",
      "Number of rows with 'bungalow' property type and missing Bedrooms or Bathrooms: 14\n"
     ]
    }
   ],
   "source": [
    "# prompt: find number of rows that have 'building' in the property_type and missing values on Bedrooms,Bathrooms\n",
    "\n",
    "# Assuming 'df_clean' is your DataFrame as defined in the provided code.\n",
    "\n",
    "# Find rows where 'property_type' is 'building' and 'Bedrooms' or 'Bathrooms' are missing.\n",
    "missing_bedrooms_bathrooms_buildings = df_clean[\n",
    "    (df_clean['property_type'] == 'building') &\n",
    "    (df_clean['Bedrooms'].isna() | df_clean['Bathrooms'].isna())\n",
    "]\n",
    "missing_bedrooms_bathrooms_apartments = df_clean[\n",
    "    (df_clean['property_type'] == 'apartment') &\n",
    "    (df_clean['Bedrooms'].isna() | df_clean['Bathrooms'].isna())\n",
    "]\n",
    "missing_bedrooms_bathrooms_commercial = df_clean[\n",
    "    (df_clean['property_type'] == 'commercial') &\n",
    "    (df_clean['Bedrooms'].isna() | df_clean['Bathrooms'].isna())\n",
    "]\n",
    "missing_bedrooms_bathrooms_bungalow = df_clean[\n",
    "    (df_clean['property_type'] == 'bungalow/townhouse') &\n",
    "    (df_clean['Bedrooms'].isna() | df_clean['Bathrooms'].isna())\n",
    "]\n",
    "\n",
    "\n",
    "num_rows_missing_building = len(missing_bedrooms_bathrooms_buildings)\n",
    "num_rows_missing_commercial = len(missing_bedrooms_bathrooms_commercial)\n",
    "num_rows_missing_apartment = len(missing_bedrooms_bathrooms_apartments)\n",
    "num_rows_missing_bungalow = len(missing_bedrooms_bathrooms_bungalow)\n",
    "print(f\"Number of rows with 'building' property type and missing Bedrooms or Bathrooms: {num_rows_missing_building}\")\n",
    "print(f\"Number of rows with 'commercial' property type and missing Bedrooms or Bathrooms: {num_rows_missing_commercial}\")\n",
    "print(f\"Number of rows with 'apartment' property type and missing Bedrooms or Bathrooms: {num_rows_missing_apartment}\")\n",
    "print(f\"Number of rows with 'bungalow' property type and missing Bedrooms or Bathrooms: {num_rows_missing_bungalow}\")\n",
    "\n"
   ]
  },
  {
   "cell_type": "markdown",
   "metadata": {
    "id": "Ul-IH0FO6k3X"
   },
   "source": [
    "commercial properties do not contain bedroom and bathroom like residential homes. hence a lot of those are empty. so for commercial properties I will keep the number of bathrooms and bedrooms 0 because in case of commercial Floor_area matters most  "
   ]
  },
  {
   "cell_type": "code",
   "execution_count": 91,
   "metadata": {
    "id": "xwn8yhU46jBu"
   },
   "outputs": [],
   "source": [
    "# prompt: in rows where property_type is 'commercial', fill the missing columns of 'Bathrooms' and 'Bedrooms' with 0\n",
    "\n",
    "# Fill missing 'Bathrooms' and 'Bedrooms' with 0 for 'commercial' property type\n",
    "df_clean.loc[df_clean['property_type'] == 'commercial', ['Bathrooms', 'Bedrooms']] = df_clean.loc[df_clean['property_type'] == 'commercial', ['Bathrooms', 'Bedrooms']].fillna(0)\n"
   ]
  },
  {
   "cell_type": "markdown",
   "metadata": {
    "id": "yDnoMLhJDNfi"
   },
   "source": [
    "I will fill up the bathrooms with median values for other cases"
   ]
  },
  {
   "cell_type": "code",
   "execution_count": 92,
   "metadata": {
    "id": "vRTu9ZlKB8p2"
   },
   "outputs": [],
   "source": [
    "# Create dictionaries to hold median floor numbers\n",
    "median_bathroom_no = {\n",
    "    \"building\": None,\n",
    "    \"apartment\": None,\n",
    "    \"bungalow/townhouse\": None\n",
    "}\n",
    "\n",
    "# Calculate median floor_no for each property type\n",
    "for property_type in [\"building\", \"apartment\", \"bungalow/townhouse\"]:\n",
    "    sub_df = df_clean[df_clean['property_type'] == property_type]\n",
    "    median_bathroom_no[property_type] = sub_df[\"Bathrooms\"].median()\n"
   ]
  },
  {
   "cell_type": "code",
   "execution_count": 93,
   "metadata": {
    "colab": {
     "base_uri": "https://localhost:8080/"
    },
    "id": "ulcvQOMoGpje",
    "outputId": "def6b95e-e659-47e6-cd79-fab280e9b43b"
   },
   "outputs": [
    {
     "data": {
      "text/plain": [
       "{'building': 3.0, 'apartment': 3.0, 'bungalow/townhouse': 3.0}"
      ]
     },
     "execution_count": 93,
     "metadata": {},
     "output_type": "execute_result"
    }
   ],
   "source": [
    "median_bathroom_no"
   ]
  },
  {
   "cell_type": "code",
   "execution_count": 94,
   "metadata": {
    "id": "xfqod2EXGuOQ"
   },
   "outputs": [],
   "source": [
    "# Create dictionaries to hold median floor numbers\n",
    "median_bedroom_no = {\n",
    "    \"building\": None,\n",
    "    \"apartment\": None,\n",
    "    \"bungalow/townhouse\": None\n",
    "}\n",
    "\n",
    "# Calculate median floor_no for each property type\n",
    "for property_type in [\"building\", \"apartment\", \"bungalow/townhouse\"]:\n",
    "    sub_df = df_clean[df_clean['property_type'] == property_type]\n",
    "    median_bedroom_no[property_type] = sub_df[\"Bedrooms\"].median()"
   ]
  },
  {
   "cell_type": "code",
   "execution_count": 95,
   "metadata": {
    "colab": {
     "base_uri": "https://localhost:8080/"
    },
    "id": "NNGi1QOnG047",
    "outputId": "d03dc9c5-99b3-47e6-9f07-1210575f74bd"
   },
   "outputs": [
    {
     "data": {
      "text/plain": [
       "{'building': 3.0, 'apartment': 3.0, 'bungalow/townhouse': 3.0}"
      ]
     },
     "execution_count": 95,
     "metadata": {},
     "output_type": "execute_result"
    }
   ],
   "source": [
    "median_bedroom_no"
   ]
  },
  {
   "cell_type": "markdown",
   "metadata": {
    "id": "-ziOItHVxgIa"
   },
   "source": [
    "#### Median of floor number"
   ]
  },
  {
   "cell_type": "code",
   "execution_count": 96,
   "metadata": {
    "id": "k_sao48uxgIa"
   },
   "outputs": [],
   "source": [
    "# Create dictionaries to hold median floor numbers\n",
    "median_floor_no = {\n",
    "    \"building\": None,\n",
    "    \"apartment\": None,\n",
    "    \"bungalow/townhouse\": None,\n",
    "    \"commercial\": None\n",
    "}\n",
    "\n",
    "# Calculate median floor_no for each property type\n",
    "for property_type in [\"building\", \"apartment\", \"bungalow/townhouse\",'commercial']:\n",
    "    sub_df = df_clean[df_clean['property_type'] == property_type]\n",
    "    median_floor_no[property_type] = sub_df[\"Floor_no\"].median()\n"
   ]
  },
  {
   "cell_type": "code",
   "execution_count": 97,
   "metadata": {
    "colab": {
     "base_uri": "https://localhost:8080/"
    },
    "id": "9GXlsW7jHRiO",
    "outputId": "8c09832f-2d01-472d-8d53-84492e401e5d"
   },
   "outputs": [
    {
     "data": {
      "text/plain": [
       "{'building': 5.0,\n",
       " 'apartment': 5.0,\n",
       " 'bungalow/townhouse': 4.0,\n",
       " 'commercial': 3.0}"
      ]
     },
     "execution_count": 97,
     "metadata": {},
     "output_type": "execute_result"
    }
   ],
   "source": [
    "median_floor_no"
   ]
  },
  {
   "cell_type": "markdown",
   "metadata": {
    "id": "-FEC6rI5LbXm"
   },
   "source": [
    "fill up the missing values of 'Floor_no' 'Bathrooms' and 'Bedrooms' based on the median values found"
   ]
  },
  {
   "cell_type": "code",
   "execution_count": 98,
   "metadata": {
    "id": "BeLMI4OWJtzb"
   },
   "outputs": [],
   "source": [
    "# prompt: fill up the missing values of 'Floor_no' 'Bathrooms' and 'Bedrooms' based on the median values found\n",
    "\n",
    "# Fill missing 'Floor_no' based on the median for each property type\n",
    "for property_type in median_floor_no:\n",
    "    df_clean.loc[(df_clean['Floor_no'].isna()) & (df_clean['property_type'] == property_type), 'Floor_no'] = median_floor_no[property_type]\n",
    "\n",
    "# Fill missing 'Bathrooms' based on the median for each property type\n",
    "for property_type in median_bathroom_no:\n",
    "\n",
    "    df_clean.loc[(df_clean['Bathrooms'].isna()) & (df_clean['property_type'] == property_type), 'Bathrooms'] = median_bathroom_no[property_type]\n",
    "\n",
    "# Fill missing 'Bedrooms' based on the median for each property type\n",
    "for property_type in median_bedroom_no:\n",
    "    df_clean.loc[(df_clean['Bedrooms'].isna()) & (df_clean['property_type'] == property_type), 'Bedrooms'] = median_bedroom_no[property_type]\n"
   ]
  },
  {
   "cell_type": "markdown",
   "metadata": {
    "id": "3IbeodEdMRwB"
   },
   "source": [
    "**Missing** **Floor_area**"
   ]
  },
  {
   "cell_type": "code",
   "execution_count": 120,
   "metadata": {
    "colab": {
     "base_uri": "https://localhost:8080/"
    },
    "id": "qJ8zhMvLMGRZ",
    "outputId": "1bc56c5d-87ed-458d-c8ce-235879ddb97e"
   },
   "outputs": [
    {
     "data": {
      "text/plain": [
       "'Choose your destination at 1500 SQ FT flat which is available for sale in North Shahjahanpur near to Pubali Bank.'"
      ]
     },
     "execution_count": 120,
     "metadata": {},
     "output_type": "execute_result"
    }
   ],
   "source": [
    "df_copy['Floor_area'].isna().sum()"
   ]
  },
  {
   "cell_type": "markdown",
   "metadata": {},
   "source": [
    "we can find the Floor_area from the title"
   ]
  },
  {
   "cell_type": "code",
   "execution_count": 122,
   "metadata": {
    "colab": {
     "base_uri": "https://localhost:8080/",
     "height": 533
    },
    "id": "yB2_iQ_7KnSh",
    "outputId": "58f91ea0-8dd4-448c-c7f9-3f01eba9395a"
   },
   "outputs": [],
   "source": [
    "# prompt: for missing 'Floor_area' from the Title.lower() get the number which is followed by 'sq'\n",
    "df_copy=df_clean.copy()\n",
    "import re\n",
    "\n",
    "def extract_floor_area(title):\n",
    "  \"\"\"\n",
    "  Extracts floor area from a title string.\n",
    "\n",
    "  Args:\n",
    "    title: The title string to search.\n",
    "\n",
    "  Returns:\n",
    "    The extracted floor area as a float, or None if not found.\n",
    "  \"\"\"\n",
    "  match = re.search(r\"(\\d+)\\s*sq\", title.lower())\n",
    "  if match:\n",
    "    return float(match.group(1))\n",
    "  return None\n",
    "\n",
    "\n",
    "# Example usage (assuming df_clean is your DataFrame)\n",
    "\n",
    "df_copy.loc[df_copy['Floor_area'].isna(), 'Floor_area'] = df_copy.loc[df_copy['Floor_area'].isna(), 'Title'].apply(extract_floor_area)\n",
    "  #df_copy.loc[i, 'Floor_area'] = extract_floor_area(df_copy.loc[i, 'Title'])\n",
    "#df_clean['extracted_floor_area'] = df_clean['Title'].apply(extract_floor_area)\n",
    "\n",
    "# Now you can use the 'extracted_floor_area' column to fill missing values in 'Floor_area'\n",
    "# Example: Fill missing values in 'Floor_area' with values from 'extracted_floor_area'\n",
    "\n"
   ]
  },
  {
   "cell_type": "code",
   "execution_count": 127,
   "metadata": {},
   "outputs": [
    {
     "data": {
      "text/plain": [
       "0"
      ]
     },
     "execution_count": 127,
     "metadata": {},
     "output_type": "execute_result"
    }
   ],
   "source": [
    "df_copy['Floor_area'].isna().sum()"
   ]
  },
  {
   "cell_type": "markdown",
   "metadata": {},
   "source": [
    "for the rest of the Floor_area we can fill the median value"
   ]
  },
  {
   "cell_type": "code",
   "execution_count": 125,
   "metadata": {},
   "outputs": [],
   "source": [
    "df_clean=df_copy.copy()\n",
    "median_floor_area = {\n",
    "    \"building\": None,\n",
    "    \"apartment\": None,\n",
    "    \"bungalow/townhouse\": None,\n",
    "    \"commercial\": None\n",
    "}\n",
    "\n",
    "# Calculate median floor_no for each property type\n",
    "for property_type in [\"building\", \"apartment\", \"bungalow/townhouse\",'commercial']:\n",
    "    sub_df = df_clean[df_clean['property_type'] == property_type]\n",
    "    median_floor_area[property_type] = sub_df[\"Floor_area\"].median()\n",
    "for property_type in median_floor_area:\n",
    "    df_clean.loc[(df_clean['Floor_area'].isna()) & (df_clean['property_type'] == property_type), 'Floor_area'] = median_floor_area[property_type]\n",
    "\n"
   ]
  },
  {
   "cell_type": "markdown",
   "metadata": {},
   "source": [
    "for Occupancy_status we can assume that those rows that are empty are vacant"
   ]
  },
  {
   "cell_type": "code",
   "execution_count": 138,
   "metadata": {},
   "outputs": [],
   "source": [
    "df_clean.loc[df_clean['Occupancy_status'].isna(),'Occupancy_status']='vacant'"
   ]
  },
  {
   "cell_type": "code",
   "execution_count": null,
   "metadata": {},
   "outputs": [],
   "source": []
  },
  {
   "cell_type": "markdown",
   "metadata": {
    "id": "r-6RSmJ4xgIb"
   },
   "source": [
    "#### Our data set after filling the 3columns with their respective medians"
   ]
  },
  {
   "cell_type": "code",
   "execution_count": 139,
   "metadata": {
    "id": "deM2fMYQxgIb"
   },
   "outputs": [
    {
     "data": {
      "text/plain": [
       "Title               0\n",
       "Bedrooms            0\n",
       "Bathrooms           0\n",
       "Floor_no            0\n",
       "Occupancy_status    0\n",
       "Floor_area          0\n",
       "City                0\n",
       "Price_in_taka       0\n",
       "Location            6\n",
       "property_type       0\n",
       "dtype: int64"
      ]
     },
     "execution_count": 139,
     "metadata": {},
     "output_type": "execute_result"
    }
   ],
   "source": [
    "df_clean.isna().sum()"
   ]
  },
  {
   "cell_type": "code",
   "execution_count": 140,
   "metadata": {},
   "outputs": [
    {
     "name": "stdout",
     "output_type": "stream",
     "text": [
      "<class 'pandas.core.frame.DataFrame'>\n",
      "Index: 2484 entries, 0 to 2928\n",
      "Data columns (total 10 columns):\n",
      " #   Column            Non-Null Count  Dtype  \n",
      "---  ------            --------------  -----  \n",
      " 0   Title             2484 non-null   object \n",
      " 1   Bedrooms          2484 non-null   float64\n",
      " 2   Bathrooms         2484 non-null   float64\n",
      " 3   Floor_no          2484 non-null   float64\n",
      " 4   Occupancy_status  2484 non-null   object \n",
      " 5   Floor_area        2484 non-null   float64\n",
      " 6   City              2484 non-null   object \n",
      " 7   Price_in_taka     2484 non-null   object \n",
      " 8   Location          2478 non-null   object \n",
      " 9   property_type     2484 non-null   object \n",
      "dtypes: float64(4), object(6)\n",
      "memory usage: 278.0+ KB\n"
     ]
    }
   ],
   "source": [
    "df_clean.info()"
   ]
  },
  {
   "cell_type": "markdown",
   "metadata": {
    "id": "NocWLEKkxgIc"
   },
   "source": [
    "#### Data set"
   ]
  },
  {
   "cell_type": "markdown",
   "metadata": {
    "id": "WDWTxC9fxgIc"
   },
   "source": [
    "#### Fixing Location missing value"
   ]
  },
  {
   "cell_type": "code",
   "execution_count": 141,
   "metadata": {
    "id": "fxYwrskuxgIc"
   },
   "outputs": [
    {
     "data": {
      "text/html": [
       "<div>\n",
       "<style scoped>\n",
       "    .dataframe tbody tr th:only-of-type {\n",
       "        vertical-align: middle;\n",
       "    }\n",
       "\n",
       "    .dataframe tbody tr th {\n",
       "        vertical-align: top;\n",
       "    }\n",
       "\n",
       "    .dataframe thead th {\n",
       "        text-align: right;\n",
       "    }\n",
       "</style>\n",
       "<table border=\"1\" class=\"dataframe\">\n",
       "  <thead>\n",
       "    <tr style=\"text-align: right;\">\n",
       "      <th></th>\n",
       "      <th>Title</th>\n",
       "      <th>Bedrooms</th>\n",
       "      <th>Bathrooms</th>\n",
       "      <th>Floor_no</th>\n",
       "      <th>Occupancy_status</th>\n",
       "      <th>Floor_area</th>\n",
       "      <th>City</th>\n",
       "      <th>Price_in_taka</th>\n",
       "      <th>Location</th>\n",
       "      <th>property_type</th>\n",
       "    </tr>\n",
       "  </thead>\n",
       "  <tbody>\n",
       "    <tr>\n",
       "      <th>383</th>\n",
       "      <td>1254 Sq Ft Flat For Sale In Kalachandpur</td>\n",
       "      <td>3.0</td>\n",
       "      <td>3.0</td>\n",
       "      <td>6.0</td>\n",
       "      <td>vacant</td>\n",
       "      <td>1254.0</td>\n",
       "      <td>Dhaka_city</td>\n",
       "      <td>৳8,300,000</td>\n",
       "      <td>NaN</td>\n",
       "      <td>apartment</td>\n",
       "    </tr>\n",
       "    <tr>\n",
       "      <th>1367</th>\n",
       "      <td>test listing ma 24.6:2</td>\n",
       "      <td>3.0</td>\n",
       "      <td>3.0</td>\n",
       "      <td>5.0</td>\n",
       "      <td>vacant</td>\n",
       "      <td>1350.0</td>\n",
       "      <td>Chattogram_city</td>\n",
       "      <td>৳54,235</td>\n",
       "      <td>NaN</td>\n",
       "      <td>apartment</td>\n",
       "    </tr>\n",
       "    <tr>\n",
       "      <th>1368</th>\n",
       "      <td>test listing ma 22.6:2</td>\n",
       "      <td>3.0</td>\n",
       "      <td>3.0</td>\n",
       "      <td>5.0</td>\n",
       "      <td>vacant</td>\n",
       "      <td>1350.0</td>\n",
       "      <td>Chattogram_city</td>\n",
       "      <td>৳6,669</td>\n",
       "      <td>NaN</td>\n",
       "      <td>apartment</td>\n",
       "    </tr>\n",
       "    <tr>\n",
       "      <th>1406</th>\n",
       "      <td>tesdt 2</td>\n",
       "      <td>3.0</td>\n",
       "      <td>3.0</td>\n",
       "      <td>5.0</td>\n",
       "      <td>vacant</td>\n",
       "      <td>1350.0</td>\n",
       "      <td>Chattogram_city</td>\n",
       "      <td>৳66</td>\n",
       "      <td>NaN</td>\n",
       "      <td>apartment</td>\n",
       "    </tr>\n",
       "    <tr>\n",
       "      <th>2063</th>\n",
       "      <td>test lsitin ma</td>\n",
       "      <td>3.0</td>\n",
       "      <td>3.0</td>\n",
       "      <td>5.0</td>\n",
       "      <td>vacant</td>\n",
       "      <td>1350.0</td>\n",
       "      <td>Chattogram_city</td>\n",
       "      <td>৳434,434</td>\n",
       "      <td>NaN</td>\n",
       "      <td>apartment</td>\n",
       "    </tr>\n",
       "    <tr>\n",
       "      <th>2068</th>\n",
       "      <td>test listing ma 21.6:8</td>\n",
       "      <td>3.0</td>\n",
       "      <td>3.0</td>\n",
       "      <td>5.0</td>\n",
       "      <td>vacant</td>\n",
       "      <td>1350.0</td>\n",
       "      <td>Chattogram_city</td>\n",
       "      <td>৳566</td>\n",
       "      <td>NaN</td>\n",
       "      <td>apartment</td>\n",
       "    </tr>\n",
       "  </tbody>\n",
       "</table>\n",
       "</div>"
      ],
      "text/plain": [
       "                                         Title  Bedrooms  Bathrooms  Floor_no  \\\n",
       "383   1254 Sq Ft Flat For Sale In Kalachandpur       3.0        3.0       6.0   \n",
       "1367                    test listing ma 24.6:2       3.0        3.0       5.0   \n",
       "1368                    test listing ma 22.6:2       3.0        3.0       5.0   \n",
       "1406                                   tesdt 2       3.0        3.0       5.0   \n",
       "2063                            test lsitin ma       3.0        3.0       5.0   \n",
       "2068                    test listing ma 21.6:8       3.0        3.0       5.0   \n",
       "\n",
       "     Occupancy_status  Floor_area             City Price_in_taka Location  \\\n",
       "383            vacant      1254.0       Dhaka_city    ৳8,300,000      NaN   \n",
       "1367           vacant      1350.0  Chattogram_city       ৳54,235      NaN   \n",
       "1368           vacant      1350.0  Chattogram_city        ৳6,669      NaN   \n",
       "1406           vacant      1350.0  Chattogram_city           ৳66      NaN   \n",
       "2063           vacant      1350.0  Chattogram_city      ৳434,434      NaN   \n",
       "2068           vacant      1350.0  Chattogram_city          ৳566      NaN   \n",
       "\n",
       "     property_type  \n",
       "383      apartment  \n",
       "1367     apartment  \n",
       "1368     apartment  \n",
       "1406     apartment  \n",
       "2063     apartment  \n",
       "2068     apartment  "
      ]
     },
     "execution_count": 141,
     "metadata": {},
     "output_type": "execute_result"
    }
   ],
   "source": [
    "df_clean[df_clean[\"Location\"].isna()]"
   ]
  },
  {
   "cell_type": "markdown",
   "metadata": {
    "id": "Id5BLUOJxgIc"
   },
   "source": [
    "#### We can see from the title the location of this property"
   ]
  },
  {
   "cell_type": "code",
   "execution_count": 142,
   "metadata": {
    "id": "tmtTe_fSxgIc"
   },
   "outputs": [],
   "source": [
    "df_clean.loc[383, \"Location\"] = \"Kalachandpur\""
   ]
  },
  {
   "cell_type": "markdown",
   "metadata": {},
   "source": [
    "drop all other rows"
   ]
  },
  {
   "cell_type": "code",
   "execution_count": 144,
   "metadata": {},
   "outputs": [],
   "source": [
    "df_clean=df_clean.dropna()"
   ]
  },
  {
   "cell_type": "markdown",
   "metadata": {},
   "source": [
    "converting the Price_in_taka column to float"
   ]
  },
  {
   "cell_type": "code",
   "execution_count": 147,
   "metadata": {},
   "outputs": [],
   "source": [
    "df_clean['Price_in_taka']=df_clean['Price_in_taka'].replace({'\\৳': '', ',': ''}, regex=True).astype(float)"
   ]
  },
  {
   "cell_type": "markdown",
   "metadata": {},
   "source": [
    "making new columns \"Area\" and \"Section/Block\" which will have the name of the place. we will take rows that have \n",
    "one comma and split those two. Also replacing all 'sector' with 'section'"
   ]
  },
  {
   "cell_type": "code",
   "execution_count": 150,
   "metadata": {},
   "outputs": [
    {
     "data": {
      "text/plain": [
       "Location\n",
       "1    2460\n",
       "0      18\n",
       "2       1\n",
       "Name: count, dtype: int64"
      ]
     },
     "execution_count": 150,
     "metadata": {},
     "output_type": "execute_result"
    }
   ],
   "source": [
    "df_clean['Location'].str.count(',').value_counts()"
   ]
  },
  {
   "cell_type": "code",
   "execution_count": 184,
   "metadata": {},
   "outputs": [],
   "source": [
    "df_copy=df_clean.copy()"
   ]
  },
  {
   "cell_type": "code",
   "execution_count": 192,
   "metadata": {},
   "outputs": [
    {
     "data": {
      "text/plain": [
       "Area\n",
       "mirpur                        408\n",
       "gazipur sadar upazila         146\n",
       "9 no. north pahartali ward    140\n",
       "double mooring                133\n",
       "bakalia                       129\n",
       "bashundhara r-a               117\n",
       "bayazid                       100\n",
       "4 no chandgaon ward            92\n",
       "khulshi                        79\n",
       "uttara                         77\n",
       "Name: count, dtype: int64"
      ]
     },
     "execution_count": 192,
     "metadata": {},
     "output_type": "execute_result"
    }
   ],
   "source": [
    "df_copy['Area'].value_counts().head(10)"
   ]
  },
  {
   "cell_type": "code",
   "execution_count": 191,
   "metadata": {},
   "outputs": [],
   "source": [
    "df_copy=df_copy.dropna()"
   ]
  },
  {
   "cell_type": "code",
   "execution_count": null,
   "metadata": {
    "id": "xn55-tUvxgIo"
   },
   "outputs": [],
   "source": []
  }
 ],
 "metadata": {
  "colab": {
   "name": "Real-Estate-Price-Prediction-in-Bangladesh",
   "provenance": []
  },
  "kaggle": {
   "accelerator": "none",
   "dataSources": [
    {
     "datasetId": 5521749,
     "sourceId": 9142342,
     "sourceType": "datasetVersion"
    }
   ],
   "dockerImageVersionId": 30786,
   "isGpuEnabled": false,
   "isInternetEnabled": false,
   "language": "python",
   "sourceType": "notebook"
  },
  "kernelspec": {
   "display_name": "Python 3 (ipykernel)",
   "language": "python",
   "name": "python3"
  },
  "language_info": {
   "codemirror_mode": {
    "name": "ipython",
    "version": 3
   },
   "file_extension": ".py",
   "mimetype": "text/x-python",
   "name": "python",
   "nbconvert_exporter": "python",
   "pygments_lexer": "ipython3",
   "version": "3.12.7"
  }
 },
 "nbformat": 4,
 "nbformat_minor": 4
}
